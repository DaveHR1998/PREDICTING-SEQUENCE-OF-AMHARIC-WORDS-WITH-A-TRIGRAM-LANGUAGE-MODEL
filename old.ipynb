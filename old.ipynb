{
 "cells": [
  {
   "cell_type": "code",
   "execution_count": 1,
   "id": "41a45c3e-de6a-4f9e-b871-2927343712f8",
   "metadata": {
    "tags": []
   },
   "outputs": [],
   "source": [
    "from nltk.util import ngrams\n",
    "from collections import defaultdict\n",
    "import random\n",
    "import string\n",
    "\n",
    "# Function to read Amharic words from a file\n",
    "def read_amharic_words_from_file(file_path):\n",
    "    with open(file_path, 'r', encoding='utf-8') as file:\n",
    "        amharic_words = file.read().split()\n",
    "    return amharic_words\n",
    "# Read Amharic words from a file\n",
    "file_path = 'amh_wikipedia_2021_30K-sentences.txt'  # Replace with the actual file path\n",
    "amharic_words = read_amharic_words_from_file(file_path)"
   ]
  },
  {
   "cell_type": "code",
   "execution_count": 41,
   "id": "a393b97d-b1a0-4f23-85a4-68abda38c4a9",
   "metadata": {
    "tags": []
   },
   "outputs": [
    {
     "name": "stdout",
     "output_type": "stream",
     "text": [
      "1\t; ሽቦዎች : \n",
      "\tሽቦዎችየኤሌክት\n"
     ]
    }
   ],
   "source": [
    "# # Define the additional punctuation characters\n",
    "additional_punctuation = '“' + '”' + '-' + '—' + '፣' + '፤' + '»' + '«' +'...'+ '።' + '1'+ '2' + '3' + '4' + '5' + '6' + '7' + '8' + '9' + '0'\n",
    "\n",
    "\n",
    "# # Update the string.punctuation with the additional characters\n",
    "# string.punctuation = string.punctuation + additional_punctuation\n",
    "\n",
    "# # Replace periods with a space in the punctuation set\n",
    "# string.punctuation = string.punctuation.replace('።', ' ')\n",
    "\n",
    "# # Assuming amharic_words is a list of lines in the Amharic text\n",
    "\n",
    "# preprocessed_words = []\n",
    "# for line in amharic_words:\n",
    "#     line_new = line.replace(\"\\n\", \" \")\n",
    "#     words_in_line = line_new.split()  # Split the line into words\n",
    "#     preprocessed_words.extend([word for word in words_in_line if word.strip(string.punctuation)])\n",
    "   \n",
    "# # s = word_tokenize(preprocessed_words)\n",
    "# # sentences = [item.split(\"።\") for item in preprocessed_words]\n",
    "# # preprocessed_words.split('። ')\n",
    "\n",
    "import string\n",
    "\n",
    "string.punctuation = string.punctuation + additional_punctuation\n",
    "string.punctuation = string.punctuation.replace('.', '')\n",
    "\n",
    "file = open('amh_wikipedia_2021_30K-sentences.txt', encoding='utf-8-sig').read()\n",
    "\n",
    "file_new = \"\"\n",
    "for line in file:\n",
    "    line_new = line.replace(\"\\n\", \" \")\n",
    "    file_new += line_new\n",
    "\n",
    "print(file_new[:11])\n",
    "\n",
    "preprocessedCorpus = \"\".join([char for char in file_new if char not in string.punctuation])\n",
    "print(preprocessedCorpus[:10])\n",
    "\n"
   ]
  },
  {
   "cell_type": "code",
   "execution_count": 45,
   "id": "feb34931-b696-4d36-b5b9-d1a3d80e6f10",
   "metadata": {
    "tags": []
   },
   "outputs": [],
   "source": [
    "preprocessed_words = [item.split(\"።\") for item in preprocessed_words]"
   ]
  },
  {
   "cell_type": "code",
   "execution_count": 46,
   "id": "d9e50fde-e7fa-4bd9-a9fc-754f3c8664ae",
   "metadata": {
    "tags": []
   },
   "outputs": [
    {
     "name": "stdout",
     "output_type": "stream",
     "text": [
      "[['ሽቦዎች'], ['የኤሌክትሪክ'], ['ሽቦ'], ['በውሃ'], ['በተመላ'], ['ቱቦ'], ['ይመሰላል', ''], ['ኤሌክትሪክ'], ['እምቅ'], ['አቅም'], ['ልዩነት'], ['(ቮልቴጅ)'], ['በሁለት'], ['ነጥቦች'], ['መካከል'], ['ባለ'], ['የጫና'], ['ልዩነት'], ['ይመሰላል', ''], [\"('ዱ'\"], ['ሁለት፣'], [\"'ሻንቤ'\"], ['ቀን)'], ['ነው', ''], ['የተባለው'], ['አልበሙ'], ['ሲሆን'], ['ስለ'], ['ፍቅር'], ['መቻቻል'], ['ህዝብ'], ['ስሜት'], ['እንዲሁም'], ['ስለመንግስታት'], ['እና'], ['ስለ'], ['ተቃዋሚዎች'], ['በ'], ['ፍቅር'], ['ለ'], ['ሃገር'], ['እድገት'], ['መስራት'], ['ዘፍኖአል', ''], ['የተሰየመው'], ['በዚህ'], ['ቅልቅል'], ['በመስፋፋቱ'], ['ነበር', ''], ['ክርስቶስ'], ['ወንጌል'], ['ቅዱስ'], ['ማርቆስ'], ['እንደ'], ['ጻፈው', ''], [\"''ቅዱስ\"], ['ጊዮርጊስም'], ['ይህን'], ['ሁሉ'], ['ተግባር'], ['ሠርቶ'], ['በመገኘቱ'], ['ብዙ'], ['ምስክር'], ['ተገኝቶለት'], ['በ፮ኛው'], ['መቶ'], ['ዘመን'], ['በደቡብ'], ['ሶርያ'], ['በምትገኘው'], ['አድራ'], ['ወይም'], ['(ይድራስ)'], ['በተባለች'], ['ቤተክርስቲያን'], ['ተሰብስበው'], ['የቤተክርስቲያን'], ['አባቶች'], ['እውነተኛ'], ['ሰማዕትነቱንና'], ['ቅድስናውን'], ['በጉባኤ'], ['አጽድቀው'], ['ውሳኔውን'], ['ለሕዝብ'], ['አስተላልፈዋል', ''], [\"'ኡሪ-ኪ'\"], ['(አካድ)'], ['ናቸው', ''], [\"'የአፈ\"], [\"ቃል'\"], ['ሕገ'], ['መንግሥት'], [\"'እንደ\"], ['አገልግሎት'], ['ሥራችሁን'], ['ለመፈጽም'], ['ያለባችሁ'], ['ሰዎች']]\n"
     ]
    }
   ],
   "source": [
    "print(preprocessed_words[:100])"
   ]
  },
  {
   "cell_type": "code",
   "execution_count": 47,
   "id": "f5b9f76b-66f0-4c6c-acbd-740ca808bc17",
   "metadata": {
    "tags": []
   },
   "outputs": [
    {
     "name": "stdout",
     "output_type": "stream",
     "text": [
      "[['ሽቦዎች'], ['የኤሌክትሪክ'], ['ሽቦ'], ['በውሃ'], ['በተመላ'], ['ቱቦ'], ['ይመሰላል', ''], ['ኤሌክትሪክ'], ['እምቅ'], ['አቅም'], ['ልዩነት'], ['(ቮልቴጅ)'], ['በሁለት'], ['ነጥቦች'], ['መካከል'], ['ባለ'], ['የጫና'], ['ልዩነት'], ['ይመሰላል', ''], [\"('ዱ'\"], ['ሁለት፣'], [\"'ሻንቤ'\"], ['ቀን)'], ['ነው', ''], ['የተባለው'], ['አልበሙ'], ['ሲሆን'], ['ስለ'], ['ፍቅር'], ['መቻቻል'], ['ህዝብ'], ['ስሜት'], ['እንዲሁም'], ['ስለመንግስታት'], ['እና'], ['ስለ'], ['ተቃዋሚዎች'], ['በ'], ['ፍቅር'], ['ለ'], ['ሃገር'], ['እድገት'], ['መስራት'], ['ዘፍኖአል', ''], ['የተሰየመው'], ['በዚህ'], ['ቅልቅል'], ['በመስፋፋቱ'], ['ነበር', ''], ['ክርስቶስ'], ['ወንጌል'], ['ቅዱስ'], ['ማርቆስ'], ['እንደ'], ['ጻፈው', ''], [\"''ቅዱስ\"], ['ጊዮርጊስም'], ['ይህን'], ['ሁሉ'], ['ተግባር'], ['ሠርቶ'], ['በመገኘቱ'], ['ብዙ'], ['ምስክር'], ['ተገኝቶለት'], ['በ፮ኛው'], ['መቶ'], ['ዘመን'], ['በደቡብ'], ['ሶርያ'], ['በምትገኘው'], ['አድራ'], ['ወይም'], ['(ይድራስ)'], ['በተባለች'], ['ቤተክርስቲያን'], ['ተሰብስበው'], ['የቤተክርስቲያን'], ['አባቶች'], ['እውነተኛ'], ['ሰማዕትነቱንና'], ['ቅድስናውን'], ['በጉባኤ'], ['አጽድቀው'], ['ውሳኔውን'], ['ለሕዝብ'], ['አስተላልፈዋል', ''], [\"'ኡሪ-ኪ'\"], ['(አካድ)'], ['ናቸው', ''], [\"'የአፈ\"], [\"ቃል'\"], ['ሕገ'], ['መንግሥት'], [\"'እንደ\"], ['አገልግሎት'], ['ሥራችሁን'], ['ለመፈጽም'], ['ያለባችሁ'], ['ሰዎች']]\n"
     ]
    }
   ],
   "source": [
    "stopwords = [\"ይመስላል\", \"ነው\", \"ነበር\", \"ግን\", \"አስታውቀዋል\", \"ይጠበቃል\", \"ብለዋል\", \"አሉ\", \"ላይ\", \"ጋር\", \"ውስጥ\", \"ስለዚህ\", \"እና\", \"ማለት\", \"መሆኑ\", \"ናቸው\", \"በዚሁ\"]\n",
    "cleaned_words = []\n",
    "\n",
    "for word in preprocessed_words:\n",
    "    if word not in stopwords:\n",
    "        cleaned_words.append(word)\n",
    "\n",
    "print(cleaned_words[:100])\n"
   ]
  },
  {
   "cell_type": "code",
   "execution_count": 32,
   "id": "1902ec85-9d96-4367-91b3-de9c5d67bd76",
   "metadata": {
    "tags": []
   },
   "outputs": [
    {
     "name": "stdout",
     "output_type": "stream",
     "text": [
      "[['ሽቦዎች'], ['የኤሌክትሪክ'], ['ሽቦ'], ['በውሃ'], ['በተመላ'], ['ቱቦ'], ['ይመሰላል', ''], ['ኤሌክትሪክ'], ['እምቅ'], ['አቅም'], ['ልዩነት'], ['(ቮልቴጅ)'], ['በሁለት'], ['ነጥቦች'], ['መካከል'], ['ባለ'], ['የጫና'], ['ልዩነት'], ['ይመሰላል', ''], [\"('ዱ'\"], ['ሁለት፣'], [\"'ሻንቤ'\"], ['ቀን)'], ['ነው', ''], ['የተባለው'], ['አልበሙ'], ['ሲሆን'], ['ስለ'], ['ፍቅር'], ['መቻቻል'], ['ህዝብ'], ['ስሜት'], ['እንዲሁም'], ['ስለመንግስታት'], ['እና'], ['ስለ'], ['ተቃዋሚዎች'], ['በ'], ['ፍቅር'], ['ለ'], ['ሃገር'], ['እድገት'], ['መስራት'], ['ዘፍኖአል', ''], ['የተሰየመው'], ['በዚህ'], ['ቅልቅል'], ['በመስፋፋቱ'], ['ነበር', ''], ['ክርስቶስ'], ['ወንጌል'], ['ቅዱስ'], ['ማርቆስ'], ['እንደ'], ['ጻፈው', ''], [\"''ቅዱስ\"], ['ጊዮርጊስም'], ['ይህን'], ['ሁሉ'], ['ተግባር'], ['ሠርቶ'], ['በመገኘቱ'], ['ብዙ'], ['ምስክር'], ['ተገኝቶለት'], ['በ፮ኛው'], ['መቶ'], ['ዘመን'], ['በደቡብ'], ['ሶርያ'], ['በምትገኘው'], ['አድራ'], ['ወይም'], ['(ይድራስ)'], ['በተባለች'], ['ቤተክርስቲያን'], ['ተሰብስበው'], ['የቤተክርስቲያን'], ['አባቶች'], ['እውነተኛ'], ['ሰማዕትነቱንና'], ['ቅድስናውን'], ['በጉባኤ'], ['አጽድቀው'], ['ውሳኔውን'], ['ለሕዝብ'], ['አስተላልፈዋል', ''], [\"'ኡሪ-ኪ'\"], ['(አካድ)'], ['ናቸው', ''], [\"'የአፈ\"], [\"ቃል'\"], ['ሕገ'], ['መንግሥት'], [\"'እንደ\"], ['አገልግሎት'], ['ሥራችሁን'], ['ለመፈጽም'], ['ያለባችሁ'], ['ሰዎች']]\n"
     ]
    }
   ],
   "source": [
    "print(sentences[:100])"
   ]
  },
  {
   "cell_type": "code",
   "execution_count": null,
   "id": "cab0cb54-aea6-46f5-b9c5-c0baae388b1b",
   "metadata": {},
   "outputs": [],
   "source": [
    "# Preprocess source text to suitable training corpus\n",
    "trigrams_amharic = list(ngrams(preprocessedCorpus, 3))  # Generate trigrams\n",
    "# Train the language model using trigrams\n",
    "trigram_model_amharic = defaultdict(list)\n",
    "for i in range(len(amharic_words)-2):\n",
    "    trigram = (amharic_words[i], amharic_words[i+1])\n",
    "    trigram_model_amharic[trigram].append(amharic_words[i+2])\n",
    "    \n",
    "    print(cleaned_words[:100])\n",
    "    print(type(sentences))"
   ]
  },
  {
   "cell_type": "code",
   "execution_count": null,
   "id": "d8ebe7c4-1e48-44a0-b107-99643f1e29b5",
   "metadata": {},
   "outputs": [],
   "source": [
    "# Function to generate a sequence of words based on the trigram model\n",
    "def generate_sequence(seed_words, model, length=1):\n",
    "    current_words = seed_words.split()\n",
    "    for i in range(length):\n",
    "        if len(current_words) < 2 :\n",
    "            break  # Break if there are not enough words for the trigram\n",
    "        w1, w2 = current_words[-2], current_words[-1]\n",
    "        next_word = random.choice(model.get((w1, w2), []))  # Use get() to handle cases where the trigram is not found\n",
    "        if next_word is not None:\n",
    "            current_words.append(next_word)\n",
    "        else:\n",
    "            break  # Break if no prediction is found\n",
    "    return ' '.join(current_words)"
   ]
  },
  {
   "cell_type": "code",
   "execution_count": null,
   "id": "5527c66e-5c54-43a1-b059-c5c9d60f75ec",
   "metadata": {},
   "outputs": [],
   "source": [
    "# Prompt the user to enter a seed phrase\n",
    "seed_phrase = input(\"Enter a seed phrase: \")\n",
    "\n",
    "# Generate a sequence of words based on the user's input and the trigram model from the file\n",
    "predicted_sequence = generate_sequence(seed_phrase, trigram_model_amharic, length=4)\n",
    "print(predicted_sequence)\n"
   ]
  },
  {
   "cell_type": "code",
   "execution_count": null,
   "id": "6765c155-211c-4c83-8b02-f4435ce2d393",
   "metadata": {},
   "outputs": [],
   "source": []
  }
 ],
 "metadata": {
  "kernelspec": {
   "display_name": "Python 3 (ipykernel)",
   "language": "python",
   "name": "python3"
  },
  "language_info": {
   "codemirror_mode": {
    "name": "ipython",
    "version": 3
   },
   "file_extension": ".py",
   "mimetype": "text/x-python",
   "name": "python",
   "nbconvert_exporter": "python",
   "pygments_lexer": "ipython3",
   "version": "3.11.5"
  }
 },
 "nbformat": 4,
 "nbformat_minor": 5
}
