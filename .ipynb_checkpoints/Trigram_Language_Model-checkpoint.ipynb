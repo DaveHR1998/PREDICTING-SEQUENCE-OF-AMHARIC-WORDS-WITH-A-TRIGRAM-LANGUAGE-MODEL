{
 "cells": [
  {
   "cell_type": "code",
   "execution_count": 1,
   "id": "e607ab6e-6683-4a75-9fe0-ecf4cdf9eed0",
   "metadata": {
    "tags": []
   },
   "outputs": [],
   "source": [
    "#  Trigram Language Model which predict a sequence of words by inferring a sequence of words/ sentence from corpora.\n",
    "\n",
    "import random\n",
    "from collections import defaultdict\n",
    "from nltk.util import ngrams\n",
    "import string"
   ]
  },
  {
   "cell_type": "code",
   "execution_count": 2,
   "id": "1ca1977d-3e53-4cfa-a9bc-4933e825c190",
   "metadata": {
    "tags": []
   },
   "outputs": [],
   "source": [
    "# Function to read Amharic words from a file\n",
    "def read_amharic_words_from_file(file_path):\n",
    "    with open(file_path, 'r', encoding='utf-8') as file:\n",
    "        amharic_words = file.read().split()\n",
    "    return amharic_words"
   ]
  },
  {
   "cell_type": "code",
   "execution_count": 3,
   "id": "a4d9f353-4107-47d5-9916-011747b1605f",
   "metadata": {
    "tags": []
   },
   "outputs": [],
   "source": [
    "# Function to remove user-defined punctuations from a list of punctuations\n",
    "def remove_user_defined_punctuations(punctuation_list, user_defined_punctuations):\n",
    "    cleaned_punctuations = [p for p in punctuation_list if p not in user_defined_punctuations]\n",
    "    return cleaned_punctuations"
   ]
  },
  {
   "cell_type": "code",
   "execution_count": 4,
   "id": "410dffd0-00ac-4c6f-b31f-fd2412a87686",
   "metadata": {
    "tags": []
   },
   "outputs": [],
   "source": [
    "# Function to remove numbers from a list of words\n",
    "def remove_numbers(words, numbers):\n",
    "    cleaned_words = [p for p in words if p not in numbers]\n",
    "    return cleaned_words"
   ]
  },
  {
   "cell_type": "code",
   "execution_count": 5,
   "id": "18ba7d07-984d-4f7f-a05b-018a9f00bec0",
   "metadata": {
    "tags": []
   },
   "outputs": [],
   "source": [
    "# Function to remove a specific character from a list of words\n",
    "def remove_character(words, char_to_remove):\n",
    "    cleaned_words = [string.replace(char_to_remove, '') for string in words]\n",
    "    return cleaned_words"
   ]
  },
  {
   "cell_type": "code",
   "execution_count": 6,
   "id": "c9e7010f-fd17-44a0-82bb-d18d717f21d0",
   "metadata": {
    "tags": []
   },
   "outputs": [],
   "source": [
    "# Function to apply Laplace smoothing to the trigram model\n",
    "def apply_laplace_smoothing(trigram_model, smoothing_factor=0.01):\n",
    "    for trigram in trigram_model:\n",
    "        total_count = sum(trigram_model[trigram].values()) + (len(trigram_model[trigram]) * smoothing_factor)\n",
    "        for word in trigram_model[trigram]:\n",
    "            trigram_model[trigram][word] = (trigram_model[trigram][word] + smoothing_factor) / total_count"
   ]
  },
  {
   "cell_type": "code",
   "execution_count": 7,
   "id": "e20dc8ad-aadb-4446-bd5e-f688582b87f1",
   "metadata": {
    "tags": []
   },
   "outputs": [],
   "source": [
    "# Read Amharic words from a file\n",
    "file_path = 'amh_wikipedia_2021_30K-sentences.txt'  # Replace with the actual file path\n",
    "amharic_words = read_amharic_words_from_file(file_path)"
   ]
  },
  {
   "cell_type": "code",
   "execution_count": 8,
   "id": "0e86e817-98ea-4618-832a-8defb899f3a6",
   "metadata": {
    "tags": []
   },
   "outputs": [
    {
     "name": "stdout",
     "output_type": "stream",
     "text": [
      "['1', 'ሽቦዎች', ':', 'የኤሌክትሪክ', 'ሽቦ', 'በውሃ', 'በተመላ', 'ቱቦ', 'ይመሰላል።', '2', 'ኤሌክትሪክ', 'እምቅ', 'አቅም', 'ልዩነት', '(ቮልቴጅ)', ':', 'በሁለት', 'ነጥቦች', 'መካከል', 'ባለ', 'የጫና', 'ልዩነት', 'ይመሰላል።', '3', \"'\", \"('ዱ'\", '-', 'ሁለት፣', \"'ሻንቤ'\", '-', 'ቀን)', 'ነው።', '4', \"'\", 'የተባለው', 'አልበሙ', 'ሲሆን', 'ስለ', 'ፍቅር', 'መቻቻል', 'ህዝብ', 'ስሜት', 'እንዲሁም', 'ስለመንግስታት', 'እና', 'ስለ', 'ተቃዋሚዎች', 'በ', 'ፍቅር', 'ለ', 'ሃገር', 'እድገት', 'መስራት', 'ዘፍኖአል።', '5', \"'\", 'የተሰየመው', 'በዚህ', 'ቅልቅል', 'በመስፋፋቱ', 'ነበር።', '6', \"'''\", 'ክርስቶስ', 'ወንጌል', 'ቅዱስ', 'ማርቆስ', 'እንደ', 'ጻፈው።', '7', \"''ቅዱስ\", 'ጊዮርጊስም', 'ይህን', 'ሁሉ', 'ተግባር', 'ሠርቶ', 'በመገኘቱ', 'ብዙ', 'ምስክር', 'ተገኝቶለት', 'በ፮ኛው', 'መቶ', 'ዘመን', 'በደቡብ', 'ሶርያ', 'በምትገኘው', 'አድራ', 'ወይም', '(ይድራስ)', 'በተባለች', 'ቤተክርስቲያን', 'ተሰብስበው', 'የቤተክርስቲያን', 'አባቶች', 'እውነተኛ', 'ሰማዕትነቱንና', 'ቅድስናውን', 'በጉባኤ', 'አጽድቀው', 'ውሳኔውን']\n"
     ]
    }
   ],
   "source": [
    "# Define the user-defined punctuations to be removed\n",
    "user_defined_punctuations = ['፣', '፤', '፡', '፦', ';',\"«\",\"»\"]  # Add or modify punctuations as needed\n",
    "\n",
    "# Remove user-defined punctuations\n",
    "cleaned_punctuations = remove_user_defined_punctuations(amharic_words, user_defined_punctuations)\n",
    "print(cleaned_punctuations[:100])"
   ]
  },
  {
   "cell_type": "code",
   "execution_count": 9,
   "id": "cf964b54-900a-4e02-a9f9-b1c9a76fe363",
   "metadata": {
    "tags": []
   },
   "outputs": [
    {
     "name": "stdout",
     "output_type": "stream",
     "text": [
      "['1', 'ሽቦዎች', 'የኤሌክትሪክ', 'ሽቦ', 'በውሃ', 'በተመላ', 'ቱቦ', 'ይመሰላል።', '2', 'ኤሌክትሪክ', 'እምቅ', 'አቅም', 'ልዩነት', 'በሁለት', 'ነጥቦች', 'መካከል', 'ባለ', 'የጫና', 'ልዩነት', 'ይመሰላል።', '3', 'ሁለት፣', 'ነው።', '4', 'የተባለው', 'አልበሙ', 'ሲሆን', 'ስለ', 'ፍቅር', 'መቻቻል', 'ህዝብ', 'ስሜት', 'እንዲሁም', 'ስለመንግስታት', 'እና', 'ስለ', 'ተቃዋሚዎች', 'በ', 'ፍቅር', 'ለ', 'ሃገር', 'እድገት', 'መስራት', 'ዘፍኖአል።', '5', 'የተሰየመው', 'በዚህ', 'ቅልቅል', 'በመስፋፋቱ', 'ነበር።', '6', 'ክርስቶስ', 'ወንጌል', 'ቅዱስ', 'ማርቆስ', 'እንደ', 'ጻፈው።', '7', 'ጊዮርጊስም', 'ይህን', 'ሁሉ', 'ተግባር', 'ሠርቶ', 'በመገኘቱ', 'ብዙ', 'ምስክር', 'ተገኝቶለት', 'በ፮ኛው', 'መቶ', 'ዘመን', 'በደቡብ', 'ሶርያ', 'በምትገኘው', 'አድራ', 'ወይም', 'በተባለች', 'ቤተክርስቲያን', 'ተሰብስበው', 'የቤተክርስቲያን', 'አባቶች', 'እውነተኛ', 'ሰማዕትነቱንና', 'ቅድስናውን', 'በጉባኤ', 'አጽድቀው', 'ውሳኔውን', 'ለሕዝብ', 'አስተላልፈዋል።', '8', 'ናቸው።', '9', 'ሕገ', 'መንግሥት', '10', 'አገልግሎት', 'ሥራችሁን', 'ለመፈጽም', 'ያለባችሁ', 'ሰዎች', 'ይሉናል።»']\n"
     ]
    }
   ],
   "source": [
    "# Remove English punctuations\n",
    "cleaned_english_punctuations = [word for word in cleaned_punctuations if all(char not in string.punctuation for char in word)]\n",
    "\n",
    "print(cleaned_english_punctuations[:100])"
   ]
  },
  {
   "cell_type": "code",
   "execution_count": 10,
   "id": "a29f8ae1-b88f-4f1c-afb6-90d57bb26671",
   "metadata": {
    "tags": []
   },
   "outputs": [
    {
     "name": "stdout",
     "output_type": "stream",
     "text": [
      "['ሽቦዎች', 'የኤሌክትሪክ', 'ሽቦ', 'በውሃ', 'በተመላ', 'ቱቦ', 'ይመሰላል።', 'ኤሌክትሪክ', 'እምቅ', 'አቅም', 'ልዩነት', 'በሁለት', 'ነጥቦች', 'መካከል', 'ባለ', 'የጫና', 'ልዩነት', 'ይመሰላል።', 'ሁለት፣', 'ነው።', 'የተባለው', 'አልበሙ', 'ሲሆን', 'ስለ', 'ፍቅር', 'መቻቻል', 'ህዝብ', 'ስሜት', 'እንዲሁም', 'ስለመንግስታት', 'እና', 'ስለ', 'ተቃዋሚዎች', 'በ', 'ፍቅር', 'ለ', 'ሃገር', 'እድገት', 'መስራት', 'ዘፍኖአል።', 'የተሰየመው', 'በዚህ', 'ቅልቅል', 'በመስፋፋቱ', 'ነበር።', 'ክርስቶስ', 'ወንጌል', 'ቅዱስ', 'ማርቆስ', 'እንደ', 'ጻፈው።', 'ጊዮርጊስም', 'ይህን', 'ሁሉ', 'ተግባር', 'ሠርቶ', 'በመገኘቱ', 'ብዙ', 'ምስክር', 'ተገኝቶለት', 'በ፮ኛው', 'መቶ', 'ዘመን', 'በደቡብ', 'ሶርያ', 'በምትገኘው', 'አድራ', 'ወይም', 'በተባለች', 'ቤተክርስቲያን', 'ተሰብስበው', 'የቤተክርስቲያን', 'አባቶች', 'እውነተኛ', 'ሰማዕትነቱንና', 'ቅድስናውን', 'በጉባኤ', 'አጽድቀው', 'ውሳኔውን', 'ለሕዝብ', 'አስተላልፈዋል።', 'ናቸው።', 'ሕገ', 'መንግሥት', '10', 'አገልግሎት', 'ሥራችሁን', 'ለመፈጽም', 'ያለባችሁ', 'ሰዎች', 'ይሉናል።»', '11', 'ተነሣ።', '12', 'ደግሞ', 'ቃሉ', 'የግሪክ', 'ሲሆን', 'ሥርዓት', 'ማለት']\n"
     ]
    }
   ],
   "source": [
    "# Define numbers to be removed\n",
    "numbers = ['1','2','3','4','5','6','7','8','9','0']\n",
    "\n",
    "# Remove numbers\n",
    "cleaned_words_without_numbers = remove_numbers(cleaned_english_punctuations, numbers)\n",
    "print(cleaned_words_without_numbers[:100])"
   ]
  },
  {
   "cell_type": "code",
   "execution_count": 11,
   "id": "1202b3b5-802a-4991-81ff-881afe8c8520",
   "metadata": {
    "tags": []
   },
   "outputs": [
    {
     "name": "stdout",
     "output_type": "stream",
     "text": [
      "['ሽቦዎች', 'የኤሌክትሪክ', 'ሽቦ', 'በውሃ', 'በተመላ', 'ቱቦ', 'ይመሰላል', 'ኤሌክትሪክ', 'እምቅ', 'አቅም', 'ልዩነት', 'በሁለት', 'ነጥቦች', 'መካከል', 'ባለ', 'የጫና', 'ልዩነት', 'ይመሰላል', 'ሁለት፣', 'ነው', 'የተባለው', 'አልበሙ', 'ሲሆን', 'ስለ', 'ፍቅር', 'መቻቻል', 'ህዝብ', 'ስሜት', 'እንዲሁም', 'ስለመንግስታት', 'እና', 'ስለ', 'ተቃዋሚዎች', 'በ', 'ፍቅር', 'ለ', 'ሃገር', 'እድገት', 'መስራት', 'ዘፍኖአል', 'የተሰየመው', 'በዚህ', 'ቅልቅል', 'በመስፋፋቱ', 'ነበር', 'ክርስቶስ', 'ወንጌል', 'ቅዱስ', 'ማርቆስ', 'እንደ', 'ጻፈው', 'ጊዮርጊስም', 'ይህን', 'ሁሉ', 'ተግባር', 'ሠርቶ', 'በመገኘቱ', 'ብዙ', 'ምስክር', 'ተገኝቶለት', 'በ፮ኛው', 'መቶ', 'ዘመን', 'በደቡብ', 'ሶርያ', 'በምትገኘው', 'አድራ', 'ወይም', 'በተባለች', 'ቤተክርስቲያን', 'ተሰብስበው', 'የቤተክርስቲያን', 'አባቶች', 'እውነተኛ', 'ሰማዕትነቱንና', 'ቅድስናውን', 'በጉባኤ', 'አጽድቀው', 'ውሳኔውን', 'ለሕዝብ', 'አስተላልፈዋል', 'ናቸው', 'ሕገ', 'መንግሥት', '10', 'አገልግሎት', 'ሥራችሁን', 'ለመፈጽም', 'ያለባችሁ', 'ሰዎች', 'ይሉናል»', '11', 'ተነሣ', '12', 'ደግሞ', 'ቃሉ', 'የግሪክ', 'ሲሆን', 'ሥርዓት', 'ማለት']\n"
     ]
    }
   ],
   "source": [
    "# Define a character to be removed\n",
    "char_to_remove = '።'\n",
    "\n",
    "cleaned_words_without_character = remove_character(cleaned_words_without_numbers, char_to_remove)\n",
    "print(cleaned_words_without_character[:100])"
   ]
  },
  {
   "cell_type": "code",
   "execution_count": 12,
   "id": "9add16fe-ab21-4e7d-9952-44db91ec5977",
   "metadata": {
    "tags": []
   },
   "outputs": [
    {
     "name": "stdout",
     "output_type": "stream",
     "text": [
      "['ሽቦዎች', 'የኤሌክትሪክ', 'ሽቦ', 'በውሃ', 'በተመላ', 'ቱቦ', 'ኤሌክትሪክ', 'እምቅ', 'አቅም', 'ልዩነት', 'በሁለት', 'ነጥቦች', 'መካከል', 'ባለ', 'የጫና', 'ልዩነት', 'ሁለት፣', 'የተባለው', 'አልበሙ', 'ሲሆን', 'ስለ', 'ፍቅር', 'መቻቻል', 'ህዝብ', 'ስሜት', 'እንዲሁም', 'ስለመንግስታት', 'ስለ', 'ተቃዋሚዎች', 'በ', 'ፍቅር', 'ለ', 'ሃገር', 'እድገት', 'መስራት', 'የተሰየመው', 'በዚህ', 'ቅልቅል', 'በመስፋፋቱ', 'ክርስቶስ', 'ወንጌል', 'ቅዱስ', 'ማርቆስ', 'እንደ', 'ጻፈው', 'ጊዮርጊስም', 'ይህን', 'ሁሉ', 'ተግባር', 'ሠርቶ', 'በመገኘቱ', 'ብዙ', 'ምስክር', 'ተገኝቶለት', 'በ፮ኛው', 'መቶ', 'ዘመን', 'በደቡብ', 'ሶርያ', 'በምትገኘው', 'አድራ', 'ወይም', 'በተባለች', 'ቤተክርስቲያን', 'ተሰብስበው', 'የቤተክርስቲያን', 'አባቶች', 'እውነተኛ', 'ሰማዕትነቱንና', 'ቅድስናውን', 'በጉባኤ', 'አጽድቀው', 'ውሳኔውን', 'ለሕዝብ', 'አስተላልፈዋል', 'ሕገ', 'መንግሥት', '10', 'አገልግሎት', 'ሥራችሁን', 'ለመፈጽም', 'ያለባችሁ', 'ሰዎች', 'ይሉናል»', '11', 'ተነሣ', '12', 'ደግሞ', 'ቃሉ', 'የግሪክ', 'ሲሆን', 'ሥርዓት', '13', 'ብለው', 'ይጠሩት', '14', 'ደግሞ', 'በአርሜንኛ', 'መጽሐፍ', 'ቅዱስ']\n"
     ]
    }
   ],
   "source": [
    "# Define stopwords to be removed\n",
    "stopwords = [\"ዘፍኖአል\",\"ይመሰላል\", \"ነው\", \"ነበር\", \"ግን\", \"አስታውቀዋል\", \"ይጠበቃል\", \"ብለዋል\", \"አሉ\", \"ላይ\", \"ጋር\", \"ውስጥ\", \"ስለዚህ\", \"እና\", \"ማለት\", \"መሆኑ\", \"ናቸው\", \"በዚሁ\"]\n",
    "\n",
    "# Remove stopwords\n",
    "cleaned_words = [word for word in cleaned_words_without_character if word not in stopwords]\n",
    "print(cleaned_words[:100])"
   ]
  },
  {
   "cell_type": "code",
   "execution_count": 13,
   "id": "d6e36540-dfc6-4ba8-8f18-c6e6b37faf8c",
   "metadata": {
    "tags": []
   },
   "outputs": [],
   "source": [
    "# Preprocess source text to suitable training corpus\n",
    "trigrams_amharic = list(ngrams(cleaned_words, 3))  # Generate trigrams"
   ]
  },
  {
   "cell_type": "code",
   "execution_count": 14,
   "id": "7b0291d9-d7cf-41a9-a164-121c308c8b3e",
   "metadata": {
    "tags": []
   },
   "outputs": [],
   "source": [
    "# Train the language model using trigrams with Laplace smoothing\n",
    "trigram_model_amharic = defaultdict(lambda: defaultdict(lambda: 0.0))\n",
    "for trigram in trigrams_amharic:\n",
    "    w1, w2, w3 = trigram\n",
    "    trigram_model_amharic[(w1, w2)][w3] += 1\n"
   ]
  },
  {
   "cell_type": "code",
   "execution_count": 2,
   "id": "857c78e5-29e8-4d23-bebb-46ef9e42a637",
   "metadata": {
    "tags": []
   },
   "outputs": [
    {
     "ename": "NameError",
     "evalue": "name 'trigram_model_amharic' is not defined",
     "output_type": "error",
     "traceback": [
      "\u001b[1;31m---------------------------------------------------------------------------\u001b[0m",
      "\u001b[1;31mNameError\u001b[0m                                 Traceback (most recent call last)",
      "Cell \u001b[1;32mIn[2], line 3\u001b[0m\n\u001b[0;32m      1\u001b[0m counter \u001b[38;5;241m=\u001b[39m \u001b[38;5;241m0\u001b[39m\n\u001b[1;32m----> 3\u001b[0m \u001b[38;5;28;01mfor\u001b[39;00m trigram, word_counts \u001b[38;5;129;01min\u001b[39;00m trigram_model_amharic\u001b[38;5;241m.\u001b[39mitems():\n\u001b[0;32m      4\u001b[0m     \u001b[38;5;28mprint\u001b[39m(\u001b[38;5;124mf\u001b[39m\u001b[38;5;124m\"\u001b[39m\u001b[38;5;124mTrigram: \u001b[39m\u001b[38;5;132;01m{\u001b[39;00mtrigram\u001b[38;5;132;01m}\u001b[39;00m\u001b[38;5;124m\"\u001b[39m)\n\u001b[0;32m      5\u001b[0m     \u001b[38;5;28;01mfor\u001b[39;00m word, count \u001b[38;5;129;01min\u001b[39;00m word_counts\u001b[38;5;241m.\u001b[39mitems():\n",
      "\u001b[1;31mNameError\u001b[0m: name 'trigram_model_amharic' is not defined"
     ]
    }
   ],
   "source": [
    "# code to display the model\n",
    "counter = 0\n",
    "\n",
    "for trigram, word_counts in trigram_model_amharic.items():\n",
    "    print(f\"Trigram: {trigram}\")\n",
    "    for word, count in word_counts.items():\n",
    "        print(f\"    Word: {word}, Count: {count}\")\n",
    "    print()  \n",
    "    \n",
    "    counter += 1\n",
    "    \n",
    "    if counter >= 100:\n",
    "        break"
   ]
  },
  {
   "cell_type": "code",
   "execution_count": 16,
   "id": "3f4d8fbf-3ebb-4b5d-bc1c-aa1a1b5ee4f7",
   "metadata": {
    "tags": []
   },
   "outputs": [],
   "source": [
    "# Apply Laplace smoothing to the trigram model\n",
    "apply_laplace_smoothing(trigram_model_amharic)"
   ]
  },
  {
   "cell_type": "code",
   "execution_count": 17,
   "id": "ad9caa22-26de-41d3-b952-2c3fe71d1fa5",
   "metadata": {
    "tags": []
   },
   "outputs": [],
   "source": [
    "# Function to generate a sequence of words based on the trigram model with Laplace smoothing\n",
    "def generate_sequence(seed_words, model, length=3):\n",
    "    current_words = seed_words.split()\n",
    "    for i in range(length):\n",
    "        if len(current_words) < 2:\n",
    "            break  # Break if there are not enough words for the trigram\n",
    "        w1, w2 = current_words[-2], current_words[-1]\n",
    "        next_word_probs = model.get((w1, w2), defaultdict(lambda: 1.0 / len(model)))\n",
    "        next_word = random.choices(list(next_word_probs.keys()), weights=next_word_probs.values())[0]\n",
    "        if next_word is not None:\n",
    "            current_words.append(next_word)\n",
    "        else:\n",
    "            break  # Break if no prediction is found\n",
    "    return ' '.join(current_words)"
   ]
  },
  {
   "cell_type": "code",
   "execution_count": 23,
   "id": "31da5e97-887a-47e1-bf41-d651274d0ec1",
   "metadata": {
    "tags": []
   },
   "outputs": [
    {
     "name": "stdin",
     "output_type": "stream",
     "text": [
      "Enter a phrase:   ሕገ መንግሥት\n"
     ]
    },
    {
     "name": "stdout",
     "output_type": "stream",
     "text": [
      "The Predicted words are : ሕገ መንግሥት በአንቀጽ 39 ንኡስ\n"
     ]
    }
   ],
   "source": [
    "seed_phrase = input(\"Enter a phrase: \")\n",
    "\n",
    "predicted_sequence = generate_sequence(seed_phrase, trigram_model_amharic, length=3)\n",
    "print(\"The Predicted words are : \" + predicted_sequence)"
   ]
  },
  {
   "cell_type": "code",
   "execution_count": null,
   "id": "1903e087-0b2e-40fb-a005-e69ad87b8717",
   "metadata": {},
   "outputs": [],
   "source": []
  }
 ],
 "metadata": {
  "kernelspec": {
   "display_name": "Python 3 (ipykernel)",
   "language": "python",
   "name": "python3"
  },
  "language_info": {
   "codemirror_mode": {
    "name": "ipython",
    "version": 3
   },
   "file_extension": ".py",
   "mimetype": "text/x-python",
   "name": "python",
   "nbconvert_exporter": "python",
   "pygments_lexer": "ipython3",
   "version": "3.11.5"
  }
 },
 "nbformat": 4,
 "nbformat_minor": 5
}
