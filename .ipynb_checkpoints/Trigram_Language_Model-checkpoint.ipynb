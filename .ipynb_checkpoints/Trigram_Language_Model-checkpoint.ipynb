{
 "cells": [
  {
   "cell_type": "code",
   "execution_count": 53,
   "id": "64781b6d-cbfb-4c33-8374-0aacd35554b4",
   "metadata": {
    "tags": []
   },
   "outputs": [
    {
     "name": "stdout",
     "output_type": "stream",
     "text": [
      "['1', ';', 'ሽቦዎች', ':', 'የኤሌክትሪክ', 'ሽቦ', 'በውሃ', 'በተመላ', 'ቱቦ', 'ይመሰላል።', '2', ';', 'ኤሌክትሪክ', 'እምቅ', 'አቅም', 'ልዩነት', '(ቮልቴጅ)', ':', 'በሁለት', 'ነጥቦች', 'መካከል', 'ባለ', 'የጫና', 'ልዩነት', 'ይመሰላል።', '3', \"'\", \"('ዱ'\", '-', 'ሁለት፣', \"'ሻንቤ'\", '-', 'ቀን)', 'ነው።', '4', \"'\", 'የተባለው', 'አልበሙ', 'ሲሆን', 'ስለ', 'ፍቅር', '፣', 'መቻቻል', '፣', 'ህዝብ', 'ስሜት', 'እንዲሁም', 'ስለመንግስታት', 'እና', 'ስለ', 'ተቃዋሚዎች', 'በ', 'ፍቅር', 'ለ', 'ሃገር', 'እድገት', 'መስራት', 'ዘፍኖአል።', '5', \"'\", 'የተሰየመው', 'በዚህ', 'ቅልቅል', 'በመስፋፋቱ', 'ነበር።', '6', \"'''\", 'ክርስቶስ', 'ወንጌል', 'ቅዱስ', 'ማርቆስ', 'እንደ', 'ጻፈው።', '7', \"''ቅዱስ\", 'ጊዮርጊስም', 'ይህን', 'ሁሉ', 'ተግባር', 'ሠርቶ', 'በመገኘቱ', 'ብዙ', 'ምስክር', 'ተገኝቶለት', 'በ፮ኛው', 'መቶ', 'ዘመን', 'በደቡብ', 'ሶርያ', 'በምትገኘው', 'አድራ', 'ወይም', '(ይድራስ)', 'በተባለች', 'ቤተክርስቲያን', 'ተሰብስበው', 'የቤተክርስቲያን', 'አባቶች', 'እውነተኛ', 'ሰማዕትነቱንና']\n"
     ]
    }
   ],
   "source": [
    "from nltk.util import ngrams\n",
    "from collections import defaultdict\n",
    "import random\n",
    "import string\n",
    "\n",
    "# Function to read Amharic words from a file\n",
    "def read_amharic_words_from_file(file_path):\n",
    "    with open(file_path, 'r', encoding='utf-8') as file:\n",
    "        amharic_words = file.read().split()\n",
    "    return amharic_words\n",
    "# Read Amharic words from a file\n",
    "file_path = 'amh_wikipedia_2021_30K-sentences.txt'  # Replace with the actual file path\n",
    "amharic_words = read_amharic_words_from_file(file_path)\n",
    "print(amharic_words[:100])"
   ]
  },
  {
   "cell_type": "code",
   "execution_count": 54,
   "id": "01b6533b-7204-41ca-8cdf-507205833ba6",
   "metadata": {
    "tags": []
   },
   "outputs": [
    {
     "name": "stdout",
     "output_type": "stream",
     "text": [
      "['1', 'ሽቦዎች', ':', 'የኤሌክትሪክ', 'ሽቦ', 'በውሃ', 'በተመላ', 'ቱቦ', 'ይመሰላል።', '2', 'ኤሌክትሪክ', 'እምቅ', 'አቅም', 'ልዩነት', '(ቮልቴጅ)', ':', 'በሁለት', 'ነጥቦች', 'መካከል', 'ባለ', 'የጫና', 'ልዩነት', 'ይመሰላል።', '3', \"'\", \"('ዱ'\", '-', 'ሁለት፣', \"'ሻንቤ'\", '-', 'ቀን)', 'ነው።', '4', \"'\", 'የተባለው', 'አልበሙ', 'ሲሆን', 'ስለ', 'ፍቅር', 'መቻቻል', 'ህዝብ', 'ስሜት', 'እንዲሁም', 'ስለመንግስታት', 'እና', 'ስለ', 'ተቃዋሚዎች', 'በ', 'ፍቅር', 'ለ']\n"
     ]
    }
   ],
   "source": [
    "# Define the user-defined punctuations to be removed\n",
    "user_defined_punctuations = ['፣', '፤', '፡', '፦', ';']  # Add or modify punctuations as needed\n",
    "\n",
    "# Function to remove user-defined punctuations from a list of punctuations\n",
    "def remove_user_defined_punctuations(punctuation_list, user_defined_punctuations):\n",
    "    cleaned_punctuations = [p for p in punctuation_list if p not in user_defined_punctuations]\n",
    "    return cleaned_punctuations\n",
    "\n",
    "# Assuming 'amharic_words' contains the list of punctuations extracted from the Amharic words\n",
    "# Remove user-defined punctuations\n",
    "cleaned_punctuations = remove_user_defined_punctuations(amharic_words, user_defined_punctuations)\n",
    "\n",
    "# Print or use the cleaned list of punctuations\n",
    "print(cleaned_punctuations[:50])\n"
   ]
  },
  {
   "cell_type": "code",
   "execution_count": 56,
   "id": "1d5dd092-7fb0-4ca0-b37d-2c26111fc3e3",
   "metadata": {
    "tags": []
   },
   "outputs": [
    {
     "name": "stdout",
     "output_type": "stream",
     "text": [
      "['1', 'ሽቦዎች', 'የኤሌክትሪክ', 'ሽቦ', 'በውሃ', 'በተመላ', 'ቱቦ', 'ይመሰላል።', '2', 'ኤሌክትሪክ', 'እምቅ', 'አቅም', 'ልዩነት', 'በሁለት', 'ነጥቦች', 'መካከል', 'ባለ', 'የጫና', 'ልዩነት', 'ይመሰላል።', '3', 'ሁለት፣', 'ነው።', '4', 'የተባለው', 'አልበሙ', 'ሲሆን', 'ስለ', 'ፍቅር', 'መቻቻል', 'ህዝብ', 'ስሜት', 'እንዲሁም', 'ስለመንግስታት', 'እና', 'ስለ', 'ተቃዋሚዎች', 'በ', 'ፍቅር', 'ለ', 'ሃገር', 'እድገት', 'መስራት', 'ዘፍኖአል።', '5', 'የተሰየመው', 'በዚህ', 'ቅልቅል', 'በመስፋፋቱ', 'ነበር።']\n"
     ]
    }
   ],
   "source": [
    "cleaned_english_punctuations = [word for word in cleaned_punctuations if all(char not in string.punctuation for char in word)]\n",
    "print(cleaned_english_punctuations[:50])"
   ]
  },
  {
   "cell_type": "code",
   "execution_count": 66,
   "id": "8be3e429-52ae-4448-aa92-dac5cab0109e",
   "metadata": {
    "tags": []
   },
   "outputs": [
    {
     "name": "stdout",
     "output_type": "stream",
     "text": [
      "['ሽቦዎች', 'የኤሌክትሪክ', 'ሽቦ', 'በውሃ', 'በተመላ', 'ቱቦ', 'ይመሰላል።', 'ኤሌክትሪክ', 'እምቅ', 'አቅም', 'ልዩነት', 'በሁለት', 'ነጥቦች', 'መካከል', 'ባለ', 'የጫና', 'ልዩነት', 'ይመሰላል።', 'ሁለት፣', 'ነው።', 'የተባለው', 'አልበሙ', 'ሲሆን', 'ስለ', 'ፍቅር', 'መቻቻል', 'ህዝብ', 'ስሜት', 'እንዲሁም', 'ስለመንግስታት', 'እና', 'ስለ', 'ተቃዋሚዎች', 'በ', 'ፍቅር', 'ለ', 'ሃገር', 'እድገት', 'መስራት', 'ዘፍኖአል።', 'የተሰየመው', 'በዚህ', 'ቅልቅል', 'በመስፋፋቱ', 'ነበር።', 'ክርስቶስ', 'ወንጌል', 'ቅዱስ', 'ማርቆስ', 'እንደ']\n"
     ]
    }
   ],
   "source": [
    "numbers = ['1','2','3','4','5','6','7','8','9','0']\n",
    "\n",
    "def remove_numbers(words, numbers):\n",
    "    cleaned_punctuations = [p for p in words if p not in numbers]\n",
    "    return cleaned_punctuations\n",
    "\n",
    "cleaned_word_from_number = remove_numbers(cleaned_english_punctuations, numbers)\n",
    "print(cleaned_word_from_number[:50])"
   ]
  },
  {
   "cell_type": "code",
   "execution_count": 67,
   "id": "a23d0ff7-3354-4645-a965-a2db8430aec9",
   "metadata": {
    "tags": []
   },
   "outputs": [
    {
     "name": "stdout",
     "output_type": "stream",
     "text": [
      "['ሽቦዎች', 'የኤሌክትሪክ', 'ሽቦ', 'በውሃ', 'በተመላ', 'ቱቦ', 'ይመሰላል', 'ኤሌክትሪክ', 'እምቅ', 'አቅም', 'ልዩነት', 'በሁለት', 'ነጥቦች', 'መካከል', 'ባለ', 'የጫና', 'ልዩነት', 'ይመሰላል', 'ሁለት፣', 'ነው', 'የተባለው', 'አልበሙ', 'ሲሆን', 'ስለ', 'ፍቅር', 'መቻቻል', 'ህዝብ', 'ስሜት', 'እንዲሁም', 'ስለመንግስታት', 'እና', 'ስለ', 'ተቃዋሚዎች', 'በ', 'ፍቅር', 'ለ', 'ሃገር', 'እድገት', 'መስራት', 'ዘፍኖአል', 'የተሰየመው', 'በዚህ', 'ቅልቅል', 'በመስፋፋቱ', 'ነበር', 'ክርስቶስ', 'ወንጌል', 'ቅዱስ', 'ማርቆስ', 'እንደ']\n"
     ]
    }
   ],
   "source": [
    "char_to_remove = '።'\n",
    "\n",
    "cleaned_word_from_character = [string.replace(char_to_remove, '') for string in cleaned_word_from_number]\n",
    "print(cleaned_word_from_character[:50])"
   ]
  },
  {
   "cell_type": "code",
   "execution_count": 68,
   "id": "3d2f9497-b14b-435d-bdf0-a15d3edd108b",
   "metadata": {
    "tags": []
   },
   "outputs": [
    {
     "name": "stdout",
     "output_type": "stream",
     "text": [
      "['ሽቦዎች', 'የኤሌክትሪክ', 'ሽቦ', 'በውሃ', 'በተመላ', 'ቱቦ', 'ኤሌክትሪክ', 'እምቅ', 'አቅም', 'ልዩነት', 'በሁለት', 'ነጥቦች', 'መካከል', 'ባለ', 'የጫና', 'ልዩነት', 'ሁለት፣', 'የተባለው', 'አልበሙ', 'ሲሆን', 'ስለ', 'ፍቅር', 'መቻቻል', 'ህዝብ', 'ስሜት', 'እንዲሁም', 'ስለመንግስታት', 'ስለ', 'ተቃዋሚዎች', 'በ', 'ፍቅር', 'ለ', 'ሃገር', 'እድገት', 'መስራት', 'ዘፍኖአል', 'የተሰየመው', 'በዚህ', 'ቅልቅል', 'በመስፋፋቱ', 'ክርስቶስ', 'ወንጌል', 'ቅዱስ', 'ማርቆስ', 'እንደ', 'ጻፈው', 'ጊዮርጊስም', 'ይህን', 'ሁሉ', 'ተግባር']\n"
     ]
    }
   ],
   "source": [
    "stopwords = [\"ይመሰላል\", \"ነው\", \"ነበር\", \"ግን\", \"አስታውቀዋል\", \"ይጠበቃል\", \"ብለዋል\", \"አሉ\", \"ላይ\", \"ጋር\", \"ውስጥ\", \"ስለዚህ\", \"እና\", \"ማለት\", \"መሆኑ\", \"ናቸው\", \"በዚሁ\"]\n",
    "cleaned_words = []\n",
    "\n",
    "for word in cleaned_word_from_character:\n",
    "    if word not in stopwords:\n",
    "        cleaned_words.append(word)\n",
    "\n",
    "print(cleaned_words[:50])"
   ]
  },
  {
   "cell_type": "code",
   "execution_count": 69,
   "id": "bea1507e-c0e2-4b8a-b75f-0e2bf0ffada4",
   "metadata": {
    "tags": []
   },
   "outputs": [],
   "source": [
    "# Preprocess source text to suitable training corpus\n",
    "trigrams_amharic = list(ngrams(cleaned_words, 3))  # Generate trigrams"
   ]
  },
  {
   "cell_type": "code",
   "execution_count": 70,
   "id": "dea328a1-7ea9-4581-b6be-09f5a4ca5e03",
   "metadata": {
    "tags": []
   },
   "outputs": [],
   "source": [
    "# Train the language model using trigrams\n",
    "trigram_model_amharic = defaultdict(list)\n",
    "for i in range(len(cleaned_words)-2):\n",
    "    trigram = (cleaned_words[i], cleaned_words[i+1])\n",
    "    trigram_model_amharic[trigram].append(cleaned_words[i+2])"
   ]
  },
  {
   "cell_type": "code",
   "execution_count": 71,
   "id": "e548d59d-c55a-4fe5-b4be-682850af4fbb",
   "metadata": {
    "tags": []
   },
   "outputs": [],
   "source": [
    "# Function to generate a sequence of words based on the trigram model\n",
    "def generate_sequence(seed_words, model, length=5):\n",
    "    current_words = seed_words.split()\n",
    "    for i in range(length):\n",
    "        if len(current_words) < 2:\n",
    "            break  # Break if there are not enough words for the trigram\n",
    "        w1, w2 = current_words[-2], current_words[-1]\n",
    "        next_word = random.choice(model.get((w1, w2), []))  # Use get() to handle cases where the trigram is not found\n",
    "        if next_word is not None:\n",
    "            current_words.append(next_word)\n",
    "        else:\n",
    "            break  # Break if no prediction is found\n",
    "    return ' '.join(current_words)"
   ]
  },
  {
   "cell_type": "code",
   "execution_count": 74,
   "id": "f6f20b7c-0ff4-42c0-8b7a-794b6dc70b8e",
   "metadata": {
    "tags": []
   },
   "outputs": [
    {
     "name": "stdin",
     "output_type": "stream",
     "text": [
      "Enter a phrase:  ፈጠረና ጹናሚው\n"
     ]
    },
    {
     "name": "stdout",
     "output_type": "stream",
     "text": [
      "The Predicted words are : ፈጠረና ጹናሚው የፉኩሺማ ኒውክሌር ኃይል\n"
     ]
    }
   ],
   "source": [
    "# Prompt the user to enter a seed phrase\n",
    "seed_phrase = input(\"Enter a phrase: \")\n",
    "\n",
    "# Generate a sequence of words based on the user's input and the trigram model from the file\n",
    "predicted_sequence = generate_sequence(seed_phrase, trigram_model_amharic, length=3)\n",
    "print(\"The Predicted words are : \"+ predicted_sequence)"
   ]
  },
  {
   "cell_type": "code",
   "execution_count": null,
   "id": "690387bb-421b-40b0-94f9-4c36db775129",
   "metadata": {},
   "outputs": [],
   "source": []
  }
 ],
 "metadata": {
  "kernelspec": {
   "display_name": "Python 3 (ipykernel)",
   "language": "python",
   "name": "python3"
  },
  "language_info": {
   "codemirror_mode": {
    "name": "ipython",
    "version": 3
   },
   "file_extension": ".py",
   "mimetype": "text/x-python",
   "name": "python",
   "nbconvert_exporter": "python",
   "pygments_lexer": "ipython3",
   "version": "3.11.5"
  }
 },
 "nbformat": 4,
 "nbformat_minor": 5
}
