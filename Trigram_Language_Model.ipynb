{
 "cells": [
  {
   "cell_type": "code",
   "execution_count": 1,
   "id": "e607ab6e-6683-4a75-9fe0-ecf4cdf9eed0",
   "metadata": {
    "tags": []
   },
   "outputs": [],
   "source": [
    "#  Trigram Language Model which predict a sequence of words by inferring a sequence of words/ sentence from corpora.\n",
    "\n",
    "import random\n",
    "from collections import defaultdict\n",
    "from nltk.util import ngrams\n",
    "import string"
   ]
  },
  {
   "cell_type": "code",
   "execution_count": 2,
   "id": "1ca1977d-3e53-4cfa-a9bc-4933e825c190",
   "metadata": {
    "tags": []
   },
   "outputs": [],
   "source": [
    "# Function to read Amharic words from a file\n",
    "def read_amharic_words_from_file(file_path):\n",
    "    with open(file_path, 'r', encoding='utf-8') as file:\n",
    "        amharic_words = file.read().split()\n",
    "    return amharic_words"
   ]
  },
  {
   "cell_type": "code",
   "execution_count": 3,
   "id": "a4d9f353-4107-47d5-9916-011747b1605f",
   "metadata": {
    "tags": []
   },
   "outputs": [],
   "source": [
    "# Function to remove user-defined punctuations from a list of punctuations\n",
    "def remove_user_defined_punctuations(punctuation_list, user_defined_punctuations):\n",
    "    cleaned_punctuations = [p for p in punctuation_list if p not in user_defined_punctuations]\n",
    "    return cleaned_punctuations"
   ]
  },
  {
   "cell_type": "code",
   "execution_count": 4,
   "id": "410dffd0-00ac-4c6f-b31f-fd2412a87686",
   "metadata": {
    "tags": []
   },
   "outputs": [],
   "source": [
    "# Function to remove numbers from a list of words\n",
    "def remove_numbers(words, numbers):\n",
    "    cleaned_words = [p for p in words if p not in numbers]\n",
    "    return cleaned_words"
   ]
  },
  {
   "cell_type": "code",
   "execution_count": 5,
   "id": "18ba7d07-984d-4f7f-a05b-018a9f00bec0",
   "metadata": {
    "tags": []
   },
   "outputs": [],
   "source": [
    "# Function to remove a specific character from a list of words\n",
    "def remove_character(words, char_to_remove):\n",
    "    cleaned_words = [string.replace(char_to_remove, '') for string in words]\n",
    "    return cleaned_words"
   ]
  },
  {
   "cell_type": "code",
   "execution_count": 6,
   "id": "c9e7010f-fd17-44a0-82bb-d18d717f21d0",
   "metadata": {
    "tags": []
   },
   "outputs": [],
   "source": [
    "# Function to apply Laplace smoothing to the trigram model\n",
    "def apply_laplace_smoothing(trigram_model, smoothing_factor=0.01):\n",
    "    for trigram in trigram_model:\n",
    "        total_count = sum(trigram_model[trigram].values()) + (len(trigram_model[trigram]) * smoothing_factor)\n",
    "        for word in trigram_model[trigram]:\n",
    "            trigram_model[trigram][word] = (trigram_model[trigram][word] + smoothing_factor) / total_count"
   ]
  },
  {
   "cell_type": "code",
   "execution_count": 7,
   "id": "e20dc8ad-aadb-4446-bd5e-f688582b87f1",
   "metadata": {
    "tags": []
   },
   "outputs": [],
   "source": [
    "# Read Amharic words from a file\n",
    "file_path = 'amh_wikipedia_2021_30K-sentences.txt'  # Replace with the actual file path\n",
    "amharic_words = read_amharic_words_from_file(file_path)"
   ]
  },
  {
   "cell_type": "code",
   "execution_count": 8,
   "id": "0e86e817-98ea-4618-832a-8defb899f3a6",
   "metadata": {
    "tags": []
   },
   "outputs": [
    {
     "name": "stdout",
     "output_type": "stream",
     "text": [
      "['1', 'ሽቦዎች', ':', 'የኤሌክትሪክ', 'ሽቦ', 'በውሃ', 'በተመላ', 'ቱቦ', 'ይመሰላል።', '2', 'ኤሌክትሪክ', 'እምቅ', 'አቅም', 'ልዩነት', '(ቮልቴጅ)', ':', 'በሁለት', 'ነጥቦች', 'መካከል', 'ባለ', 'የጫና', 'ልዩነት', 'ይመሰላል።', '3', \"'\", \"('ዱ'\", '-', 'ሁለት፣', \"'ሻንቤ'\", '-', 'ቀን)', 'ነው።', '4', \"'\", 'የተባለው', 'አልበሙ', 'ሲሆን', 'ስለ', 'ፍቅር', 'መቻቻል', 'ህዝብ', 'ስሜት', 'እንዲሁም', 'ስለመንግስታት', 'እና', 'ስለ', 'ተቃዋሚዎች', 'በ', 'ፍቅር', 'ለ', 'ሃገር', 'እድገት', 'መስራት', 'ዘፍኖአል።', '5', \"'\", 'የተሰየመው', 'በዚህ', 'ቅልቅል', 'በመስፋፋቱ', 'ነበር።', '6', \"'''\", 'ክርስቶስ', 'ወንጌል', 'ቅዱስ', 'ማርቆስ', 'እንደ', 'ጻፈው።', '7', \"''ቅዱስ\", 'ጊዮርጊስም', 'ይህን', 'ሁሉ', 'ተግባር', 'ሠርቶ', 'በመገኘቱ', 'ብዙ', 'ምስክር', 'ተገኝቶለት', 'በ፮ኛው', 'መቶ', 'ዘመን', 'በደቡብ', 'ሶርያ', 'በምትገኘው', 'አድራ', 'ወይም', '(ይድራስ)', 'በተባለች', 'ቤተክርስቲያን', 'ተሰብስበው', 'የቤተክርስቲያን', 'አባቶች', 'እውነተኛ', 'ሰማዕትነቱንና', 'ቅድስናውን', 'በጉባኤ', 'አጽድቀው', 'ውሳኔውን']\n"
     ]
    }
   ],
   "source": [
    "# Define the user-defined punctuations to be removed\n",
    "user_defined_punctuations = ['፣', '፤', '፡', '፦', ';',\"«\",\"»\"]  # Add or modify punctuations as needed\n",
    "\n",
    "# Remove user-defined punctuations\n",
    "cleaned_punctuations = remove_user_defined_punctuations(amharic_words, user_defined_punctuations)\n",
    "print(cleaned_punctuations[:100])"
   ]
  },
  {
   "cell_type": "code",
   "execution_count": 9,
   "id": "cf964b54-900a-4e02-a9f9-b1c9a76fe363",
   "metadata": {
    "tags": []
   },
   "outputs": [
    {
     "name": "stdout",
     "output_type": "stream",
     "text": [
      "['1', 'ሽቦዎች', 'የኤሌክትሪክ', 'ሽቦ', 'በውሃ', 'በተመላ', 'ቱቦ', 'ይመሰላል።', '2', 'ኤሌክትሪክ', 'እምቅ', 'አቅም', 'ልዩነት', 'በሁለት', 'ነጥቦች', 'መካከል', 'ባለ', 'የጫና', 'ልዩነት', 'ይመሰላል።', '3', 'ሁለት፣', 'ነው።', '4', 'የተባለው', 'አልበሙ', 'ሲሆን', 'ስለ', 'ፍቅር', 'መቻቻል', 'ህዝብ', 'ስሜት', 'እንዲሁም', 'ስለመንግስታት', 'እና', 'ስለ', 'ተቃዋሚዎች', 'በ', 'ፍቅር', 'ለ', 'ሃገር', 'እድገት', 'መስራት', 'ዘፍኖአል።', '5', 'የተሰየመው', 'በዚህ', 'ቅልቅል', 'በመስፋፋቱ', 'ነበር።', '6', 'ክርስቶስ', 'ወንጌል', 'ቅዱስ', 'ማርቆስ', 'እንደ', 'ጻፈው።', '7', 'ጊዮርጊስም', 'ይህን', 'ሁሉ', 'ተግባር', 'ሠርቶ', 'በመገኘቱ', 'ብዙ', 'ምስክር', 'ተገኝቶለት', 'በ፮ኛው', 'መቶ', 'ዘመን', 'በደቡብ', 'ሶርያ', 'በምትገኘው', 'አድራ', 'ወይም', 'በተባለች', 'ቤተክርስቲያን', 'ተሰብስበው', 'የቤተክርስቲያን', 'አባቶች', 'እውነተኛ', 'ሰማዕትነቱንና', 'ቅድስናውን', 'በጉባኤ', 'አጽድቀው', 'ውሳኔውን', 'ለሕዝብ', 'አስተላልፈዋል።', '8', 'ናቸው።', '9', 'ሕገ', 'መንግሥት', '10', 'አገልግሎት', 'ሥራችሁን', 'ለመፈጽም', 'ያለባችሁ', 'ሰዎች', 'ይሉናል።»']\n"
     ]
    }
   ],
   "source": [
    "# Remove English punctuations\n",
    "cleaned_english_punctuations = [word for word in cleaned_punctuations if all(char not in string.punctuation for char in word)]\n",
    "\n",
    "print(cleaned_english_punctuations[:100])"
   ]
  },
  {
   "cell_type": "code",
   "execution_count": 10,
   "id": "a29f8ae1-b88f-4f1c-afb6-90d57bb26671",
   "metadata": {
    "tags": []
   },
   "outputs": [
    {
     "name": "stdout",
     "output_type": "stream",
     "text": [
      "['ሽቦዎች', 'የኤሌክትሪክ', 'ሽቦ', 'በውሃ', 'በተመላ', 'ቱቦ', 'ይመሰላል።', 'ኤሌክትሪክ', 'እምቅ', 'አቅም', 'ልዩነት', 'በሁለት', 'ነጥቦች', 'መካከል', 'ባለ', 'የጫና', 'ልዩነት', 'ይመሰላል።', 'ሁለት፣', 'ነው።', 'የተባለው', 'አልበሙ', 'ሲሆን', 'ስለ', 'ፍቅር', 'መቻቻል', 'ህዝብ', 'ስሜት', 'እንዲሁም', 'ስለመንግስታት', 'እና', 'ስለ', 'ተቃዋሚዎች', 'በ', 'ፍቅር', 'ለ', 'ሃገር', 'እድገት', 'መስራት', 'ዘፍኖአል።', 'የተሰየመው', 'በዚህ', 'ቅልቅል', 'በመስፋፋቱ', 'ነበር።', 'ክርስቶስ', 'ወንጌል', 'ቅዱስ', 'ማርቆስ', 'እንደ', 'ጻፈው።', 'ጊዮርጊስም', 'ይህን', 'ሁሉ', 'ተግባር', 'ሠርቶ', 'በመገኘቱ', 'ብዙ', 'ምስክር', 'ተገኝቶለት', 'በ፮ኛው', 'መቶ', 'ዘመን', 'በደቡብ', 'ሶርያ', 'በምትገኘው', 'አድራ', 'ወይም', 'በተባለች', 'ቤተክርስቲያን', 'ተሰብስበው', 'የቤተክርስቲያን', 'አባቶች', 'እውነተኛ', 'ሰማዕትነቱንና', 'ቅድስናውን', 'በጉባኤ', 'አጽድቀው', 'ውሳኔውን', 'ለሕዝብ', 'አስተላልፈዋል።', 'ናቸው።', 'ሕገ', 'መንግሥት', '10', 'አገልግሎት', 'ሥራችሁን', 'ለመፈጽም', 'ያለባችሁ', 'ሰዎች', 'ይሉናል።»', '11', 'ተነሣ።', '12', 'ደግሞ', 'ቃሉ', 'የግሪክ', 'ሲሆን', 'ሥርዓት', 'ማለት']\n"
     ]
    }
   ],
   "source": [
    "# Define numbers to be removed\n",
    "numbers = ['1','2','3','4','5','6','7','8','9','0']\n",
    "\n",
    "# Remove numbers\n",
    "cleaned_words_without_numbers = remove_numbers(cleaned_english_punctuations, numbers)\n",
    "print(cleaned_words_without_numbers[:100])"
   ]
  },
  {
   "cell_type": "code",
   "execution_count": 11,
   "id": "1202b3b5-802a-4991-81ff-881afe8c8520",
   "metadata": {
    "tags": []
   },
   "outputs": [
    {
     "name": "stdout",
     "output_type": "stream",
     "text": [
      "['ሽቦዎች', 'የኤሌክትሪክ', 'ሽቦ', 'በውሃ', 'በተመላ', 'ቱቦ', 'ይመሰላል', 'ኤሌክትሪክ', 'እምቅ', 'አቅም', 'ልዩነት', 'በሁለት', 'ነጥቦች', 'መካከል', 'ባለ', 'የጫና', 'ልዩነት', 'ይመሰላል', 'ሁለት፣', 'ነው', 'የተባለው', 'አልበሙ', 'ሲሆን', 'ስለ', 'ፍቅር', 'መቻቻል', 'ህዝብ', 'ስሜት', 'እንዲሁም', 'ስለመንግስታት', 'እና', 'ስለ', 'ተቃዋሚዎች', 'በ', 'ፍቅር', 'ለ', 'ሃገር', 'እድገት', 'መስራት', 'ዘፍኖአል', 'የተሰየመው', 'በዚህ', 'ቅልቅል', 'በመስፋፋቱ', 'ነበር', 'ክርስቶስ', 'ወንጌል', 'ቅዱስ', 'ማርቆስ', 'እንደ', 'ጻፈው', 'ጊዮርጊስም', 'ይህን', 'ሁሉ', 'ተግባር', 'ሠርቶ', 'በመገኘቱ', 'ብዙ', 'ምስክር', 'ተገኝቶለት', 'በ፮ኛው', 'መቶ', 'ዘመን', 'በደቡብ', 'ሶርያ', 'በምትገኘው', 'አድራ', 'ወይም', 'በተባለች', 'ቤተክርስቲያን', 'ተሰብስበው', 'የቤተክርስቲያን', 'አባቶች', 'እውነተኛ', 'ሰማዕትነቱንና', 'ቅድስናውን', 'በጉባኤ', 'አጽድቀው', 'ውሳኔውን', 'ለሕዝብ', 'አስተላልፈዋል', 'ናቸው', 'ሕገ', 'መንግሥት', '10', 'አገልግሎት', 'ሥራችሁን', 'ለመፈጽም', 'ያለባችሁ', 'ሰዎች', 'ይሉናል»', '11', 'ተነሣ', '12', 'ደግሞ', 'ቃሉ', 'የግሪክ', 'ሲሆን', 'ሥርዓት', 'ማለት']\n"
     ]
    }
   ],
   "source": [
    "# Define a character to be removed\n",
    "char_to_remove = '።'\n",
    "\n",
    "cleaned_words_without_character = remove_character(cleaned_words_without_numbers, char_to_remove)\n",
    "print(cleaned_words_without_character[:100])"
   ]
  },
  {
   "cell_type": "code",
   "execution_count": 12,
   "id": "9add16fe-ab21-4e7d-9952-44db91ec5977",
   "metadata": {
    "tags": []
   },
   "outputs": [
    {
     "name": "stdout",
     "output_type": "stream",
     "text": [
      "['ሽቦዎች', 'የኤሌክትሪክ', 'ሽቦ', 'በውሃ', 'በተመላ', 'ቱቦ', 'ኤሌክትሪክ', 'እምቅ', 'አቅም', 'ልዩነት', 'በሁለት', 'ነጥቦች', 'መካከል', 'ባለ', 'የጫና', 'ልዩነት', 'ሁለት፣', 'የተባለው', 'አልበሙ', 'ሲሆን', 'ስለ', 'ፍቅር', 'መቻቻል', 'ህዝብ', 'ስሜት', 'እንዲሁም', 'ስለመንግስታት', 'ስለ', 'ተቃዋሚዎች', 'በ', 'ፍቅር', 'ለ', 'ሃገር', 'እድገት', 'መስራት', 'የተሰየመው', 'በዚህ', 'ቅልቅል', 'በመስፋፋቱ', 'ክርስቶስ', 'ወንጌል', 'ቅዱስ', 'ማርቆስ', 'እንደ', 'ጻፈው', 'ጊዮርጊስም', 'ይህን', 'ሁሉ', 'ተግባር', 'ሠርቶ', 'በመገኘቱ', 'ብዙ', 'ምስክር', 'ተገኝቶለት', 'በ፮ኛው', 'መቶ', 'ዘመን', 'በደቡብ', 'ሶርያ', 'በምትገኘው', 'አድራ', 'ወይም', 'በተባለች', 'ቤተክርስቲያን', 'ተሰብስበው', 'የቤተክርስቲያን', 'አባቶች', 'እውነተኛ', 'ሰማዕትነቱንና', 'ቅድስናውን', 'በጉባኤ', 'አጽድቀው', 'ውሳኔውን', 'ለሕዝብ', 'አስተላልፈዋል', 'ሕገ', 'መንግሥት', '10', 'አገልግሎት', 'ሥራችሁን', 'ለመፈጽም', 'ያለባችሁ', 'ሰዎች', 'ይሉናል»', '11', 'ተነሣ', '12', 'ደግሞ', 'ቃሉ', 'የግሪክ', 'ሲሆን', 'ሥርዓት', '13', 'ብለው', 'ይጠሩት', '14', 'ደግሞ', 'በአርሜንኛ', 'መጽሐፍ', 'ቅዱስ']\n"
     ]
    }
   ],
   "source": [
    "# Define stopwords to be removed\n",
    "stopwords = [\"ዘፍኖአል\",\"ይመሰላል\", \"ነው\", \"ነበር\", \"ግን\", \"አስታውቀዋል\", \"ይጠበቃል\", \"ብለዋል\", \"አሉ\", \"ላይ\", \"ጋር\", \"ውስጥ\", \"ስለዚህ\", \"እና\", \"ማለት\", \"መሆኑ\", \"ናቸው\", \"በዚሁ\"]\n",
    "\n",
    "# Remove stopwords\n",
    "cleaned_words = [word for word in cleaned_words_without_character if word not in stopwords]\n",
    "print(cleaned_words[:100])"
   ]
  },
  {
   "cell_type": "code",
   "execution_count": 13,
   "id": "d6e36540-dfc6-4ba8-8f18-c6e6b37faf8c",
   "metadata": {
    "tags": []
   },
   "outputs": [],
   "source": [
    "# Preprocess source text to suitable training corpus\n",
    "trigrams_amharic = list(ngrams(cleaned_words, 3))  # Generate trigrams"
   ]
  },
  {
   "cell_type": "code",
   "execution_count": 14,
   "id": "7b0291d9-d7cf-41a9-a164-121c308c8b3e",
   "metadata": {
    "tags": []
   },
   "outputs": [],
   "source": [
    "# Train the language model using trigrams with Laplace smoothing\n",
    "trigram_model_amharic = defaultdict(lambda: defaultdict(lambda: 0.0))\n",
    "for trigram in trigrams_amharic:\n",
    "    w1, w2, w3 = trigram\n",
    "    trigram_model_amharic[(w1, w2)][w3] += 1\n"
   ]
  },
  {
   "cell_type": "code",
   "execution_count": 15,
   "id": "857c78e5-29e8-4d23-bebb-46ef9e42a637",
   "metadata": {
    "tags": []
   },
   "outputs": [
    {
     "name": "stdout",
     "output_type": "stream",
     "text": [
      "Trigram: ('ሽቦዎች', 'የኤሌክትሪክ')\n",
      "    Word: ሽቦ, Count: 1.0\n",
      "\n",
      "Trigram: ('የኤሌክትሪክ', 'ሽቦ')\n",
      "    Word: በውሃ, Count: 1.0\n",
      "\n",
      "Trigram: ('ሽቦ', 'በውሃ')\n",
      "    Word: በተመላ, Count: 1.0\n",
      "\n",
      "Trigram: ('በውሃ', 'በተመላ')\n",
      "    Word: ቱቦ, Count: 1.0\n",
      "\n",
      "Trigram: ('በተመላ', 'ቱቦ')\n",
      "    Word: ኤሌክትሪክ, Count: 1.0\n",
      "\n",
      "Trigram: ('ቱቦ', 'ኤሌክትሪክ')\n",
      "    Word: እምቅ, Count: 1.0\n",
      "\n",
      "Trigram: ('ኤሌክትሪክ', 'እምቅ')\n",
      "    Word: አቅም, Count: 2.0\n",
      "    Word: የመስክ, Count: 1.0\n",
      "    Word: ይገኛል, Count: 1.0\n",
      "\n",
      "Trigram: ('እምቅ', 'አቅም')\n",
      "    Word: ልዩነት, Count: 1.0\n",
      "    Word: በቁመቱ, Count: 1.0\n",
      "    Word: ይኖራል, Count: 1.0\n",
      "    Word: ምክንያት, Count: 1.0\n",
      "    Word: ደግሞ, Count: 1.0\n",
      "    Word: ቢኖረው፣, Count: 1.0\n",
      "    Word: ያለው, Count: 1.0\n",
      "\n",
      "Trigram: ('አቅም', 'ልዩነት')\n",
      "    Word: በሁለት, Count: 1.0\n",
      "    Word: አለ, Count: 1.0\n",
      "\n",
      "Trigram: ('ልዩነት', 'በሁለት')\n",
      "    Word: ነጥቦች, Count: 1.0\n",
      "\n",
      "Trigram: ('በሁለት', 'ነጥቦች')\n",
      "    Word: መካከል, Count: 7.0\n",
      "    Word: ያለን, Count: 1.0\n",
      "    Word: ወይም, Count: 1.0\n",
      "\n",
      "Trigram: ('ነጥቦች', 'መካከል')\n",
      "    Word: ባለ, Count: 1.0\n",
      "    Word: ያለውን, Count: 1.0\n",
      "    Word: ከሚሳሉ, Count: 1.0\n",
      "    Word: ያለው, Count: 2.0\n",
      "    Word: አስሩ, Count: 1.0\n",
      "    Word: ሊሳሉ, Count: 1.0\n",
      "    Word: የሚገኝ, Count: 1.0\n",
      "\n",
      "Trigram: ('መካከል', 'ባለ')\n",
      "    Word: የጫና, Count: 1.0\n",
      "    Word: አለመጣጣም, Count: 1.0\n",
      "\n",
      "Trigram: ('ባለ', 'የጫና')\n",
      "    Word: ልዩነት, Count: 1.0\n",
      "\n",
      "Trigram: ('የጫና', 'ልዩነት')\n",
      "    Word: ሁለት፣, Count: 1.0\n",
      "\n",
      "Trigram: ('ልዩነት', 'ሁለት፣')\n",
      "    Word: የተባለው, Count: 1.0\n",
      "\n",
      "Trigram: ('ሁለት፣', 'የተባለው')\n",
      "    Word: አልበሙ, Count: 1.0\n",
      "\n",
      "Trigram: ('የተባለው', 'አልበሙ')\n",
      "    Word: ሲሆን, Count: 1.0\n",
      "\n",
      "Trigram: ('አልበሙ', 'ሲሆን')\n",
      "    Word: ስለ, Count: 1.0\n",
      "\n",
      "Trigram: ('ሲሆን', 'ስለ')\n",
      "    Word: ፍቅር, Count: 1.0\n",
      "    Word: ማህበራዊ, Count: 1.0\n",
      "\n",
      "Trigram: ('ስለ', 'ፍቅር')\n",
      "    Word: መቻቻል, Count: 1.0\n",
      "    Word: ስለ, Count: 1.0\n",
      "\n",
      "Trigram: ('ፍቅር', 'መቻቻል')\n",
      "    Word: ህዝብ, Count: 1.0\n",
      "\n",
      "Trigram: ('መቻቻል', 'ህዝብ')\n",
      "    Word: ስሜት, Count: 1.0\n",
      "\n",
      "Trigram: ('ህዝብ', 'ስሜት')\n",
      "    Word: እንዲሁም, Count: 1.0\n",
      "\n",
      "Trigram: ('ስሜት', 'እንዲሁም')\n",
      "    Word: ስለመንግስታት, Count: 1.0\n",
      "\n",
      "Trigram: ('እንዲሁም', 'ስለመንግስታት')\n",
      "    Word: ስለ, Count: 1.0\n",
      "\n",
      "Trigram: ('ስለመንግስታት', 'ስለ')\n",
      "    Word: ተቃዋሚዎች, Count: 1.0\n",
      "\n",
      "Trigram: ('ስለ', 'ተቃዋሚዎች')\n",
      "    Word: በ, Count: 1.0\n",
      "\n",
      "Trigram: ('ተቃዋሚዎች', 'በ')\n",
      "    Word: ፍቅር, Count: 1.0\n",
      "\n",
      "Trigram: ('በ', 'ፍቅር')\n",
      "    Word: ለ, Count: 1.0\n",
      "\n",
      "Trigram: ('ፍቅር', 'ለ')\n",
      "    Word: ሃገር, Count: 1.0\n",
      "\n",
      "Trigram: ('ለ', 'ሃገር')\n",
      "    Word: እድገት, Count: 1.0\n",
      "\n",
      "Trigram: ('ሃገር', 'እድገት')\n",
      "    Word: መስራት, Count: 1.0\n",
      "\n",
      "Trigram: ('እድገት', 'መስራት')\n",
      "    Word: የተሰየመው, Count: 1.0\n",
      "\n",
      "Trigram: ('መስራት', 'የተሰየመው')\n",
      "    Word: በዚህ, Count: 1.0\n",
      "\n",
      "Trigram: ('የተሰየመው', 'በዚህ')\n",
      "    Word: ቅልቅል, Count: 1.0\n",
      "\n",
      "Trigram: ('በዚህ', 'ቅልቅል')\n",
      "    Word: በመስፋፋቱ, Count: 1.0\n",
      "\n",
      "Trigram: ('ቅልቅል', 'በመስፋፋቱ')\n",
      "    Word: ክርስቶስ, Count: 1.0\n",
      "\n",
      "Trigram: ('በመስፋፋቱ', 'ክርስቶስ')\n",
      "    Word: ወንጌል, Count: 1.0\n",
      "\n",
      "Trigram: ('ክርስቶስ', 'ወንጌል')\n",
      "    Word: ቅዱስ, Count: 2.0\n",
      "\n",
      "Trigram: ('ወንጌል', 'ቅዱስ')\n",
      "    Word: ማርቆስ, Count: 1.0\n",
      "    Word: ሉቃስ, Count: 1.0\n",
      "\n",
      "Trigram: ('ቅዱስ', 'ማርቆስ')\n",
      "    Word: እንደ, Count: 1.0\n",
      "    Word: ወንጌሉን, Count: 1.0\n",
      "    Word: ካለፈ, Count: 1.0\n",
      "    Word: ወንጌላዊ, Count: 1.0\n",
      "\n",
      "Trigram: ('ማርቆስ', 'እንደ')\n",
      "    Word: ጻፈው, Count: 1.0\n",
      "\n",
      "Trigram: ('እንደ', 'ጻፈው')\n",
      "    Word: ጊዮርጊስም, Count: 1.0\n",
      "    Word: የተሻለው, Count: 1.0\n",
      "    Word: 18052, Count: 1.0\n",
      "    Word: በእርሱ, Count: 1.0\n",
      "    Word: በ5, Count: 1.0\n",
      "\n",
      "Trigram: ('ጻፈው', 'ጊዮርጊስም')\n",
      "    Word: ይህን, Count: 1.0\n",
      "\n",
      "Trigram: ('ጊዮርጊስም', 'ይህን')\n",
      "    Word: ሁሉ, Count: 1.0\n",
      "\n",
      "Trigram: ('ይህን', 'ሁሉ')\n",
      "    Word: ተግባር, Count: 1.0\n",
      "    Word: ጉድ», Count: 1.0\n",
      "    Word: እያካሄደ, Count: 1.0\n",
      "    Word: ጣጣ, Count: 1.0\n",
      "    Word: መከራዋን, Count: 1.0\n",
      "    Word: መሆኑን, Count: 1.0\n",
      "    Word: ላደረገለት, Count: 1.0\n",
      "\n",
      "Trigram: ('ሁሉ', 'ተግባር')\n",
      "    Word: ሠርቶ, Count: 1.0\n",
      "    Word: አለመዋሉ, Count: 1.0\n",
      "\n",
      "Trigram: ('ተግባር', 'ሠርቶ')\n",
      "    Word: በመገኘቱ, Count: 1.0\n",
      "\n",
      "Trigram: ('ሠርቶ', 'በመገኘቱ')\n",
      "    Word: ብዙ, Count: 1.0\n",
      "\n",
      "Trigram: ('በመገኘቱ', 'ብዙ')\n",
      "    Word: ምስክር, Count: 1.0\n",
      "    Word: ቅርሶች, Count: 1.0\n",
      "\n",
      "Trigram: ('ብዙ', 'ምስክር')\n",
      "    Word: ተገኝቶለት, Count: 1.0\n",
      "\n",
      "Trigram: ('ምስክር', 'ተገኝቶለት')\n",
      "    Word: በ፮ኛው, Count: 1.0\n",
      "\n",
      "Trigram: ('ተገኝቶለት', 'በ፮ኛው')\n",
      "    Word: መቶ, Count: 1.0\n",
      "\n",
      "Trigram: ('በ፮ኛው', 'መቶ')\n",
      "    Word: ዘመን, Count: 1.0\n",
      "\n",
      "Trigram: ('መቶ', 'ዘመን')\n",
      "    Word: በደቡብ, Count: 1.0\n",
      "    Word: የነበረውን, Count: 1.0\n",
      "    Word: መጨረሻ, Count: 1.0\n",
      "    Word: በወጣው, Count: 1.0\n",
      "    Word: የጻፉት, Count: 1.0\n",
      "    Word: በፊት, Count: 1.0\n",
      "    Word: በኋላ, Count: 1.0\n",
      "    Word: መገባደጃ, Count: 1.0\n",
      "    Word: የአርጉስ, Count: 1.0\n",
      "    Word: 25755, Count: 1.0\n",
      "    Word: በሥነ, Count: 1.0\n",
      "    Word: መጀመሪያ, Count: 1.0\n",
      "    Word: ዓክልበ, Count: 1.0\n",
      "    Word: ከክርስቶስ, Count: 1.0\n",
      "    Word: አጋማሽ, Count: 1.0\n",
      "    Word: ተሠራ, Count: 1.0\n",
      "    Word: ሲሆን, Count: 1.0\n",
      "    Word: ዛሬ, Count: 1.0\n",
      "    Word: የነገሥታት, Count: 1.0\n",
      "    Word: በተጻፈ, Count: 1.0\n",
      "    Word: የኖረውና, Count: 1.0\n",
      "\n",
      "Trigram: ('ዘመን', 'በደቡብ')\n",
      "    Word: ሶርያ, Count: 1.0\n",
      "\n",
      "Trigram: ('በደቡብ', 'ሶርያ')\n",
      "    Word: በምትገኘው, Count: 1.0\n",
      "\n",
      "Trigram: ('ሶርያ', 'በምትገኘው')\n",
      "    Word: አድራ, Count: 1.0\n",
      "\n",
      "Trigram: ('በምትገኘው', 'አድራ')\n",
      "    Word: ወይም, Count: 1.0\n",
      "\n",
      "Trigram: ('አድራ', 'ወይም')\n",
      "    Word: በተባለች, Count: 1.0\n",
      "\n",
      "Trigram: ('ወይም', 'በተባለች')\n",
      "    Word: ቤተክርስቲያን, Count: 1.0\n",
      "\n",
      "Trigram: ('በተባለች', 'ቤተክርስቲያን')\n",
      "    Word: ተሰብስበው, Count: 1.0\n",
      "\n",
      "Trigram: ('ቤተክርስቲያን', 'ተሰብስበው')\n",
      "    Word: የቤተክርስቲያን, Count: 1.0\n",
      "\n",
      "Trigram: ('ተሰብስበው', 'የቤተክርስቲያን')\n",
      "    Word: አባቶች, Count: 1.0\n",
      "\n",
      "Trigram: ('የቤተክርስቲያን', 'አባቶች')\n",
      "    Word: እውነተኛ, Count: 1.0\n",
      "    Word: ይተርካሉ, Count: 1.0\n",
      "    Word: ከሚባሉት, Count: 1.0\n",
      "\n",
      "Trigram: ('አባቶች', 'እውነተኛ')\n",
      "    Word: ሰማዕትነቱንና, Count: 1.0\n",
      "\n",
      "Trigram: ('እውነተኛ', 'ሰማዕትነቱንና')\n",
      "    Word: ቅድስናውን, Count: 1.0\n",
      "\n",
      "Trigram: ('ሰማዕትነቱንና', 'ቅድስናውን')\n",
      "    Word: በጉባኤ, Count: 1.0\n",
      "\n",
      "Trigram: ('ቅድስናውን', 'በጉባኤ')\n",
      "    Word: አጽድቀው, Count: 1.0\n",
      "\n",
      "Trigram: ('በጉባኤ', 'አጽድቀው')\n",
      "    Word: ውሳኔውን, Count: 1.0\n",
      "\n",
      "Trigram: ('አጽድቀው', 'ውሳኔውን')\n",
      "    Word: ለሕዝብ, Count: 1.0\n",
      "\n",
      "Trigram: ('ውሳኔውን', 'ለሕዝብ')\n",
      "    Word: አስተላልፈዋል, Count: 1.0\n",
      "\n",
      "Trigram: ('ለሕዝብ', 'አስተላልፈዋል')\n",
      "    Word: ሕገ, Count: 1.0\n",
      "\n",
      "Trigram: ('አስተላልፈዋል', 'ሕገ')\n",
      "    Word: መንግሥት, Count: 1.0\n",
      "\n",
      "Trigram: ('ሕገ', 'መንግሥት')\n",
      "    Word: 10, Count: 1.0\n",
      "    Word: ፈጠረ, Count: 1.0\n",
      "    Word: ሆነ, Count: 1.0\n",
      "    Word: እንኳን, Count: 1.0\n",
      "    Word: ወስደው, Count: 1.0\n",
      "    Word: አወጡ, Count: 3.0\n",
      "    Word: ፅንሰ, Count: 1.0\n",
      "    Word: የሚመስል, Count: 1.0\n",
      "    Word: አይባልም, Count: 1.0\n",
      "    Word: መሰረት, Count: 1.0\n",
      "    Word: ዶም, Count: 1.0\n",
      "    Word: አሥራ, Count: 1.0\n",
      "    Word: ቢባልም, Count: 1.0\n",
      "    Word: አወጣ, Count: 1.0\n",
      "    Word: ከንጉሣዊ፣, Count: 1.0\n",
      "    Word: 1ኛ, Count: 1.0\n",
      "    Word: በ1009, Count: 1.0\n",
      "    Word: የሕግ, Count: 1.0\n",
      "    Word: ያወጡ, Count: 1.0\n",
      "    Word: 24561, Count: 1.0\n",
      "    Word: ፲፫ኛው, Count: 1.0\n",
      "    Word: መሠረት, Count: 1.0\n",
      "    Word: የመንግሥቱን, Count: 1.0\n",
      "    Word: በአንቀጽ, Count: 1.0\n",
      "    Word: ተረጋግጠዋል, Count: 1.0\n",
      "    Word: በአዲስ, Count: 1.0\n",
      "    Word: ተለውጧል, Count: 1.0\n",
      "    Word: መለወጫ, Count: 1.0\n",
      "    Word: 25ኛ, Count: 1.0\n",
      "    Word: አልኖረም, Count: 1.0\n",
      "    Word: በአራት, Count: 1.0\n",
      "\n",
      "Trigram: ('መንግሥት', '10')\n",
      "    Word: አገልግሎት, Count: 1.0\n",
      "\n",
      "Trigram: ('10', 'አገልግሎት')\n",
      "    Word: ሥራችሁን, Count: 1.0\n",
      "\n",
      "Trigram: ('አገልግሎት', 'ሥራችሁን')\n",
      "    Word: ለመፈጽም, Count: 1.0\n",
      "\n",
      "Trigram: ('ሥራችሁን', 'ለመፈጽም')\n",
      "    Word: ያለባችሁ, Count: 1.0\n",
      "\n",
      "Trigram: ('ለመፈጽም', 'ያለባችሁ')\n",
      "    Word: ሰዎች, Count: 1.0\n",
      "\n",
      "Trigram: ('ያለባችሁ', 'ሰዎች')\n",
      "    Word: ይሉናል», Count: 1.0\n",
      "\n",
      "Trigram: ('ሰዎች', 'ይሉናል»')\n",
      "    Word: 11, Count: 1.0\n",
      "\n",
      "Trigram: ('ይሉናል»', '11')\n",
      "    Word: ተነሣ, Count: 1.0\n",
      "\n",
      "Trigram: ('11', 'ተነሣ')\n",
      "    Word: 12, Count: 1.0\n",
      "\n",
      "Trigram: ('ተነሣ', '12')\n",
      "    Word: ደግሞ, Count: 1.0\n",
      "\n",
      "Trigram: ('12', 'ደግሞ')\n",
      "    Word: ቃሉ, Count: 1.0\n",
      "\n",
      "Trigram: ('ደግሞ', 'ቃሉ')\n",
      "    Word: የግሪክ, Count: 1.0\n",
      "\n",
      "Trigram: ('ቃሉ', 'የግሪክ')\n",
      "    Word: ሲሆን, Count: 1.0\n",
      "\n",
      "Trigram: ('የግሪክ', 'ሲሆን')\n",
      "    Word: ሥርዓት, Count: 1.0\n",
      "\n",
      "Trigram: ('ሲሆን', 'ሥርዓት')\n",
      "    Word: 13, Count: 1.0\n",
      "\n",
      "Trigram: ('ሥርዓት', '13')\n",
      "    Word: ብለው, Count: 1.0\n",
      "\n",
      "Trigram: ('13', 'ብለው')\n",
      "    Word: ይጠሩት, Count: 1.0\n",
      "\n",
      "Trigram: ('ብለው', 'ይጠሩት')\n",
      "    Word: 14, Count: 1.0\n",
      "\n",
      "Trigram: ('ይጠሩት', '14')\n",
      "    Word: ደግሞ, Count: 1.0\n",
      "\n",
      "Trigram: ('14', 'ደግሞ')\n",
      "    Word: በአርሜንኛ, Count: 1.0\n",
      "\n",
      "Trigram: ('ደግሞ', 'በአርሜንኛ')\n",
      "    Word: መጽሐፍ, Count: 1.0\n",
      "\n",
      "Trigram: ('በአርሜንኛ', 'መጽሐፍ')\n",
      "    Word: ቅዱስ, Count: 1.0\n",
      "\n",
      "Trigram: ('መጽሐፍ', 'ቅዱስ')\n",
      "    Word: ትርጉም, Count: 1.0\n",
      "    Word: ሰዎች, Count: 1.0\n",
      "    Word: «ናምሩድ», Count: 1.0\n",
      "    Word: እንዲህ, Count: 1.0\n",
      "    Word: እነዚህን, Count: 1.0\n",
      "    Word: ምን, Count: 2.0\n",
      "    Word: በእርግጥም, Count: 1.0\n",
      "    Word: በግልጽ, Count: 2.0\n",
      "    Word: በሙሉም, Count: 1.0\n",
      "    Word: ታሪኮች, Count: 1.0\n",
      "    Word: ባይኖር, Count: 1.0\n",
      "    Word: የስነምግባር, Count: 1.0\n",
      "    Word: ፷፮, Count: 1.0\n",
      "    Word: መልክ, Count: 1.0\n",
      "    Word: ዕብራውያን, Count: 1.0\n",
      "    Word: ይነግረናል, Count: 1.0\n",
      "    Word: «መቄዶን», Count: 1.0\n",
      "    Word: ሙሉ, Count: 1.0\n",
      "    Word: በዘጸዓት, Count: 1.0\n",
      "    Word: ከመቶ, Count: 1.0\n",
      "    Word: አይናገርም, Count: 1.0\n",
      "    Word: የሚያምኑት, Count: 1.0\n",
      "\n",
      "Trigram: ('ቅዱስ', 'ትርጉም')\n",
      "    Word: የኦሪዮን, Count: 1.0\n",
      "\n"
     ]
    }
   ],
   "source": [
    "# code to display the model\n",
    "counter = 0\n",
    "\n",
    "for trigram, word_counts in trigram_model_amharic.items():\n",
    "    print(f\"Trigram: {trigram}\")\n",
    "    for word, count in word_counts.items():\n",
    "        print(f\"    Word: {word}, Count: {count}\")\n",
    "    print()  \n",
    "    \n",
    "    counter += 1\n",
    "    \n",
    "    if counter >= 100:\n",
    "        break"
   ]
  },
  {
   "cell_type": "code",
   "execution_count": 16,
   "id": "3f4d8fbf-3ebb-4b5d-bc1c-aa1a1b5ee4f7",
   "metadata": {
    "tags": []
   },
   "outputs": [],
   "source": [
    "# Apply Laplace smoothing to the trigram model\n",
    "apply_laplace_smoothing(trigram_model_amharic)"
   ]
  },
  {
   "cell_type": "code",
   "execution_count": 17,
   "id": "ad9caa22-26de-41d3-b952-2c3fe71d1fa5",
   "metadata": {
    "tags": []
   },
   "outputs": [],
   "source": [
    "# Function to generate a sequence of words based on the trigram model with Laplace smoothing\n",
    "def generate_sequence(seed_words, model, length=3):\n",
    "    current_words = seed_words.split()\n",
    "    for i in range(length):\n",
    "        if len(current_words) < 2:\n",
    "            break  # Break if there are not enough words for the trigram\n",
    "        w1, w2 = current_words[-2], current_words[-1]\n",
    "        next_word_probs = model.get((w1, w2), defaultdict(lambda: 1.0 / len(model)))\n",
    "        next_word = random.choices(list(next_word_probs.keys()), weights=next_word_probs.values())[0]\n",
    "        if next_word is not None:\n",
    "            current_words.append(next_word)\n",
    "        else:\n",
    "            break  # Break if no prediction is found\n",
    "    return ' '.join(current_words)"
   ]
  },
  {
   "cell_type": "code",
   "execution_count": 18,
   "id": "31da5e97-887a-47e1-bf41-d651274d0ec1",
   "metadata": {
    "tags": []
   },
   "outputs": [
    {
     "name": "stdin",
     "output_type": "stream",
     "text": [
      "Enter a phrase:  ህንድ አገር\n"
     ]
    },
    {
     "name": "stdout",
     "output_type": "stream",
     "text": [
      "The Predicted words are : ህንድ አገር አግራ ከተማ የሚገኝ\n"
     ]
    }
   ],
   "source": [
    "seed_phrase = input(\"Enter a phrase: \")\n",
    "\n",
    "predicted_sequence = generate_sequence(seed_phrase, trigram_model_amharic, length=3)\n",
    "print(\"The Predicted words are : \" + predicted_sequence)"
   ]
  },
  {
   "cell_type": "code",
   "execution_count": null,
   "id": "1903e087-0b2e-40fb-a005-e69ad87b8717",
   "metadata": {},
   "outputs": [],
   "source": []
  }
 ],
 "metadata": {
  "kernelspec": {
   "display_name": "Python 3 (ipykernel)",
   "language": "python",
   "name": "python3"
  },
  "language_info": {
   "codemirror_mode": {
    "name": "ipython",
    "version": 3
   },
   "file_extension": ".py",
   "mimetype": "text/x-python",
   "name": "python",
   "nbconvert_exporter": "python",
   "pygments_lexer": "ipython3",
   "version": "3.11.5"
  }
 },
 "nbformat": 4,
 "nbformat_minor": 5
}
