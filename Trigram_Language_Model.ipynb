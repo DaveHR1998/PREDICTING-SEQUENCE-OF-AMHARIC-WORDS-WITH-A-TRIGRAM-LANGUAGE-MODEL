{
 "cells": [
  {
   "cell_type": "code",
   "execution_count": 1,
   "id": "c2e90f93-25d7-4283-99f2-2f6c2ba6f21e",
   "metadata": {
    "tags": []
   },
   "outputs": [],
   "source": [
    "from nltk.util import ngrams\n",
    "from collections import defaultdict\n",
    "import random"
   ]
  },
  {
   "cell_type": "code",
   "execution_count": 2,
   "id": "94a25dfb-fcbf-4501-8746-e428bb94d466",
   "metadata": {
    "tags": []
   },
   "outputs": [],
   "source": [
    "# Function to read Amharic words from a file\n",
    "def read_amharic_words_from_file(file_path):\n",
    "    with open(file_path, 'r', encoding='utf-8') as file:\n",
    "        amharic_words = file.read().split()\n",
    "    return amharic_words"
   ]
  },
  {
   "cell_type": "code",
   "execution_count": 3,
   "id": "280f78a9-7d33-455d-9714-abe4aa7bfdc1",
   "metadata": {
    "tags": []
   },
   "outputs": [],
   "source": [
    "# Read Amharic words from a file\n",
    "file_path = 'amh_wikipedia_2021_30K-sentences.txt'  # Replace with the actual file path\n",
    "amharic_words = read_amharic_words_from_file(file_path)"
   ]
  },
  {
   "cell_type": "code",
   "execution_count": 4,
   "id": "dd5e98da-5664-4235-9aa2-1af34ece26d6",
   "metadata": {
    "tags": []
   },
   "outputs": [],
   "source": [
    "# Preprocess source text to suitable training corpus\n",
    "trigrams_amharic = list(ngrams(amharic_words, 3))  # Generate trigrams"
   ]
  },
  {
   "cell_type": "code",
   "execution_count": 5,
   "id": "6b9be137-0b58-4d98-87fb-7d3a698d03b8",
   "metadata": {
    "tags": []
   },
   "outputs": [],
   "source": [
    "# Train the language model using trigrams\n",
    "trigram_model_amharic = defaultdict(list)\n",
    "for i in range(len(amharic_words)-2):\n",
    "    trigram = (amharic_words[i], amharic_words[i+1])\n",
    "    trigram_model_amharic[trigram].append(amharic_words[i+2])"
   ]
  },
  {
   "cell_type": "code",
   "execution_count": 6,
   "id": "8624f316-6d4f-450c-8914-69bd606bc042",
   "metadata": {
    "tags": []
   },
   "outputs": [],
   "source": [
    "# Function to generate a sequence of words based on the trigram model\n",
    "def generate_sequence(seed_words, model, length=5):\n",
    "    current_words = seed_words.split()\n",
    "    for i in range(length):\n",
    "        if len(current_words) < 2:\n",
    "            break  # Break if there are not enough words for the trigram\n",
    "        w1, w2 = current_words[-2], current_words[-1]\n",
    "        next_word = random.choice(model.get((w1, w2), []))  # Use get() to handle cases where the trigram is not found\n",
    "        if next_word is not None:\n",
    "            current_words.append(next_word)\n",
    "        else:\n",
    "            break  # Break if no prediction is found\n",
    "    return ' '.join(current_words)"
   ]
  },
  {
   "cell_type": "code",
   "execution_count": 7,
   "id": "ed6bac65-8612-4b73-b100-0a36c4572596",
   "metadata": {
    "tags": []
   },
   "outputs": [
    {
     "name": "stdin",
     "output_type": "stream",
     "text": [
      "Enter a seed phrase:  ፈጠረና ጹናሚው\n"
     ]
    },
    {
     "name": "stdout",
     "output_type": "stream",
     "text": [
      "ፈጠረና ጹናሚው የፉኩሺማ ኒውክሌር ኃይል\n"
     ]
    }
   ],
   "source": [
    "# Prompt the user to enter a seed phrase\n",
    "seed_phrase = input(\"Enter a seed phrase: \")\n",
    "\n",
    "# Generate a sequence of words based on the user's input and the trigram model from the file\n",
    "predicted_sequence = generate_sequence(seed_phrase, trigram_model_amharic, length=3)\n",
    "print(predicted_sequence)"
   ]
  },
  {
   "cell_type": "code",
   "execution_count": null,
   "id": "18cb2223-94ed-4886-abd7-e46a6a235b24",
   "metadata": {},
   "outputs": [],
   "source": []
  }
 ],
 "metadata": {
  "kernelspec": {
   "display_name": "Python 3 (ipykernel)",
   "language": "python",
   "name": "python3"
  },
  "language_info": {
   "codemirror_mode": {
    "name": "ipython",
    "version": 3
   },
   "file_extension": ".py",
   "mimetype": "text/x-python",
   "name": "python",
   "nbconvert_exporter": "python",
   "pygments_lexer": "ipython3",
   "version": "3.11.5"
  }
 },
 "nbformat": 4,
 "nbformat_minor": 5
}
